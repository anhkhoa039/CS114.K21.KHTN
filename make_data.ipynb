{
 "cells": [
  {
   "cell_type": "markdown",
   "metadata": {},
   "source": [
    "#  Thu thập và xử lý data"
   ]
  },
  {
   "cell_type": "code",
   "execution_count": 34,
   "metadata": {},
   "outputs": [],
   "source": [
    "import cv2\n",
    "import pandas as pd\n",
    "import matplotlib.image as mpimg\n",
    "import matplotlib.pyplot as plt"
   ]
  },
  {
   "cell_type": "code",
   "execution_count": null,
   "metadata": {},
   "outputs": [],
   "source": []
  },
  {
   "cell_type": "code",
   "execution_count": 14,
   "metadata": {},
   "outputs": [],
   "source": [
    "def crop (img_path,a,k):\n",
    "    gray=cv2.cvtColor(image,cv2.COLOR_BGR2GRAY)\n",
    "    edged = cv2.Canny(image, 10, 250)\n",
    "\n",
    "    (cnts, _) = cv2.findContours(edged.copy(), cv2.RETR_EXTERNAL, cv2.CHAIN_APPROX_SIMPLE)\n",
    "    idx = 0\n",
    "\n",
    "    for c in cnts:\n",
    "        x,y,w,h = cv2.boundingRect(c)\n",
    "        if w > 10 and h> 10:\n",
    "            idx+=1\n",
    "            new_img=image[y-10:y+h+10,x-10:x+w+10]\n",
    "            cv2.imwrite(\"C://Users//ADMIN//Pictures//rawdata_croped//raw_{}//1_{}{}_\".format(a,k,a) + str(idx) + '.png', new_img)\n",
    "    cv2.imshow(\"im\",image)\n",
    "    cv2.waitKey(0)\n",
    "    cv2.destroyAllWindows()\n",
    "\n",
    "\n",
    "    "
   ]
  },
  {
   "cell_type": "code",
   "execution_count": null,
   "metadata": {},
   "outputs": [],
   "source": [
    "# crop image and store in each conrresponding folder\n",
    "for i in range (10):\n",
    "    for j in range (0,5):\n",
    "        img =  cv2.imread(\"C://Users//ADMIN//Pictures//RAW_DATA_number//{}//{}_{}.jpg\".format(i,i,j)) \n",
    "        crop (img, j,i)"
   ]
  },
  {
   "cell_type": "code",
   "execution_count": 11,
   "metadata": {},
   "outputs": [],
   "source": [
    "# get list folder and path \n",
    "def get_list_path (path,x):\n",
    "    list_path= []\n",
    "    for i in range (10):\n",
    "#         list_path.append(\"C://Users//ADMIN//Pictures//rawdata_croped//raw_{}\".format(i))\n",
    "        list_path.append(path + \"//{}{}\".format(x,i))\n",
    "    return list_path\n"
   ]
  },
  {
   "cell_type": "code",
   "execution_count": 12,
   "metadata": {},
   "outputs": [],
   "source": [
    "# get list file in each folder from list path\n",
    "def get_list_file(list_path):\n",
    "    list_file = []\n",
    "    for i in range (len(list_path)):\n",
    "        for j in range (200):\n",
    "            list_file.append(list_path[i] + \"//{}_{}.png\".format(i,j))\n",
    "    return list_file\n"
   ]
  },
  {
   "cell_type": "code",
   "execution_count": 13,
   "metadata": {},
   "outputs": [],
   "source": [
    "def resize (img):\n",
    "    new_width = 28\n",
    "    new_height = 28\n",
    "    img_resized = cv2.resize(src=img, dsize=(new_width, new_height))\n",
    "    return img_resized   \n"
   ]
  },
  {
   "cell_type": "code",
   "execution_count": 4,
   "metadata": {},
   "outputs": [],
   "source": [
    "# convert to binary\n",
    "def cv_to_binary(img_path):\n",
    "    # read color image with grayscale flag: \"cv2.IMREAD_GRAYSCALE\"\n",
    "    \n",
    "    img_grayscale = cv2.imread(img_path, cv2.IMREAD_GRAYSCALE) # shape: (960, 960)\n",
    "    img_binary = cv2.adaptiveThreshold(img_grayscale, \n",
    "                                       maxValue=255, \n",
    "                                       adaptiveMethod=cv2.ADAPTIVE_THRESH_MEAN_C, \n",
    "                                       thresholdType=cv2.THRESH_BINARY_INV,\n",
    "                                       blockSize=15,\n",
    "                                       C=8)\n",
    "    return img_binary"
   ]
  },
  {
   "cell_type": "markdown",
   "metadata": {},
   "source": [
    "## List folder"
   ]
  },
  {
   "cell_type": "code",
   "execution_count": 151,
   "metadata": {},
   "outputs": [
    {
     "data": {
      "text/plain": [
       "['C://Users//ADMIN//Pictures//rawdata_croped//raw_0',\n",
       " 'C://Users//ADMIN//Pictures//rawdata_croped//raw_1',\n",
       " 'C://Users//ADMIN//Pictures//rawdata_croped//raw_2',\n",
       " 'C://Users//ADMIN//Pictures//rawdata_croped//raw_3',\n",
       " 'C://Users//ADMIN//Pictures//rawdata_croped//raw_4',\n",
       " 'C://Users//ADMIN//Pictures//rawdata_croped//raw_5',\n",
       " 'C://Users//ADMIN//Pictures//rawdata_croped//raw_6',\n",
       " 'C://Users//ADMIN//Pictures//rawdata_croped//raw_7',\n",
       " 'C://Users//ADMIN//Pictures//rawdata_croped//raw_8',\n",
       " 'C://Users//ADMIN//Pictures//rawdata_croped//raw_9']"
      ]
     },
     "execution_count": 151,
     "metadata": {},
     "output_type": "execute_result"
    }
   ],
   "source": [
    "# list data croped folder\n",
    "path = \"C://Users//ADMIN//Pictures//rawdata_croped\"\n",
    "list_path = get_list_path (path,\"raw_\")\n",
    "list_path"
   ]
  },
  {
   "cell_type": "markdown",
   "metadata": {},
   "source": [
    "## List file"
   ]
  },
  {
   "cell_type": "code",
   "execution_count": 152,
   "metadata": {},
   "outputs": [
    {
     "data": {
      "text/plain": [
       "['C://Users//ADMIN//Pictures//rawdata_croped//raw_0//0_0.png',\n",
       " 'C://Users//ADMIN//Pictures//rawdata_croped//raw_1//1_0.png',\n",
       " 'C://Users//ADMIN//Pictures//rawdata_croped//raw_2//2_0.png',\n",
       " 'C://Users//ADMIN//Pictures//rawdata_croped//raw_3//3_0.png',\n",
       " 'C://Users//ADMIN//Pictures//rawdata_croped//raw_4//4_0.png',\n",
       " 'C://Users//ADMIN//Pictures//rawdata_croped//raw_5//5_0.png',\n",
       " 'C://Users//ADMIN//Pictures//rawdata_croped//raw_6//6_0.png',\n",
       " 'C://Users//ADMIN//Pictures//rawdata_croped//raw_7//7_0.png',\n",
       " 'C://Users//ADMIN//Pictures//rawdata_croped//raw_8//8_0.png',\n",
       " 'C://Users//ADMIN//Pictures//rawdata_croped//raw_9//9_0.png']"
      ]
     },
     "execution_count": 152,
     "metadata": {},
     "output_type": "execute_result"
    }
   ],
   "source": [
    "# list file image from  rawdata_croped folder\n",
    "list_file = get_list_file(list_path)\n",
    "len(list_file)\n",
    "list_file [::200]"
   ]
  },
  {
   "cell_type": "markdown",
   "metadata": {},
   "source": [
    "# resize image"
   ]
  },
  {
   "cell_type": "code",
   "execution_count": 153,
   "metadata": {},
   "outputs": [],
   "source": [
    "# resize image\n",
    "j = 0 \n",
    "for i in range (len(list_file)):\n",
    "    # load image from path \n",
    "    img = cv2.imread(list_file[i])\n",
    "    img_resized = resize(img)\n",
    "#     cv2.imwrite(list_path[i],img_resized)\n",
    "    if (i+1) % 200==0:\n",
    "        j=j+1\n",
    "    cv2.imwrite('C://Users//ADMIN//Pictures//rawdata_resized//{}//{}_{}.png'.format(j,j,i%200),img_resized)"
   ]
  },
  {
   "cell_type": "markdown",
   "metadata": {},
   "source": [
    "## List folder (resized) "
   ]
  },
  {
   "cell_type": "code",
   "execution_count": 154,
   "metadata": {},
   "outputs": [
    {
     "data": {
      "text/plain": [
       "['C://Users//ADMIN//Pictures//rawdata_resized//0',\n",
       " 'C://Users//ADMIN//Pictures//rawdata_resized//1',\n",
       " 'C://Users//ADMIN//Pictures//rawdata_resized//2',\n",
       " 'C://Users//ADMIN//Pictures//rawdata_resized//3',\n",
       " 'C://Users//ADMIN//Pictures//rawdata_resized//4',\n",
       " 'C://Users//ADMIN//Pictures//rawdata_resized//5',\n",
       " 'C://Users//ADMIN//Pictures//rawdata_resized//6',\n",
       " 'C://Users//ADMIN//Pictures//rawdata_resized//7',\n",
       " 'C://Users//ADMIN//Pictures//rawdata_resized//8',\n",
       " 'C://Users//ADMIN//Pictures//rawdata_resized//9']"
      ]
     },
     "execution_count": 154,
     "metadata": {},
     "output_type": "execute_result"
    }
   ],
   "source": [
    "# list rawdata_croped folder\n",
    "path =  \"C://Users//ADMIN//Pictures//rawdata_resized\"\n",
    "list_path = get_list_path(path,\"\")\n",
    "list_path"
   ]
  },
  {
   "cell_type": "markdown",
   "metadata": {},
   "source": [
    "## List file (resized) "
   ]
  },
  {
   "cell_type": "code",
   "execution_count": 155,
   "metadata": {},
   "outputs": [
    {
     "data": {
      "text/plain": [
       "['C://Users//ADMIN//Pictures//rawdata_resized//0//0_0.png',\n",
       " 'C://Users//ADMIN//Pictures//rawdata_resized//1//1_0.png',\n",
       " 'C://Users//ADMIN//Pictures//rawdata_resized//2//2_0.png',\n",
       " 'C://Users//ADMIN//Pictures//rawdata_resized//3//3_0.png',\n",
       " 'C://Users//ADMIN//Pictures//rawdata_resized//4//4_0.png',\n",
       " 'C://Users//ADMIN//Pictures//rawdata_resized//5//5_0.png',\n",
       " 'C://Users//ADMIN//Pictures//rawdata_resized//6//6_0.png',\n",
       " 'C://Users//ADMIN//Pictures//rawdata_resized//7//7_0.png',\n",
       " 'C://Users//ADMIN//Pictures//rawdata_resized//8//8_0.png',\n",
       " 'C://Users//ADMIN//Pictures//rawdata_resized//9//9_0.png']"
      ]
     },
     "execution_count": 155,
     "metadata": {},
     "output_type": "execute_result"
    }
   ],
   "source": [
    "# list file image from  rawdata_resized folder\n",
    "list_file = get_list_file(list_path)\n",
    "len(list_file)\n",
    "list_file [::200]"
   ]
  },
  {
   "cell_type": "markdown",
   "metadata": {},
   "source": [
    "## Convert to binary image "
   ]
  },
  {
   "cell_type": "code",
   "execution_count": null,
   "metadata": {},
   "outputs": [],
   "source": [
    "\n",
    "j = 0 \n",
    "for i in range (len(list_file)):\n",
    "    # load image from path \n",
    "    img = cv2.imread(list_file[i])\n",
    "    img_binary = resize(list_file[i])\n",
    "    if (i+1) % 200==0:\n",
    "        j=j+1\n",
    "     # save in .png format   \n",
    "    cv2.imwrite('C://Users//ADMIN//Pictures//DATASET//{}//{}_{}.png'.format(j,j,i%200),img_binary)"
   ]
  },
  {
   "cell_type": "markdown",
   "metadata": {},
   "source": [
    "## Vectorization"
   ]
  },
  {
   "cell_type": "code",
   "execution_count": 1,
   "metadata": {},
   "outputs": [],
   "source": [
    "def cv_to_vector (img):\n",
    "    vec = []\n",
    "    for i in range (len(img[0])):\n",
    "        for j in range (len(img[1])):\n",
    "            vec.append(img[i][j])\n",
    "    return vec"
   ]
  },
  {
   "cell_type": "code",
   "execution_count": 2,
   "metadata": {},
   "outputs": [],
   "source": [
    "def output1 (img):\n",
    "    for i in range (len(img[0])):\n",
    "        for j in range (len(img[1])):\n",
    "            if img[i][j] ==0:\n",
    "                print (\" {} \".format(img[i][j]),end=\"\")\n",
    "            else:\n",
    "                print (\"{}\".format(img[i][j]),end=\"\")\n",
    "        print (\"\")"
   ]
  },
  {
   "cell_type": "markdown",
   "metadata": {},
   "source": [
    "#### Test thử với 1 tấm ảnh "
   ]
  },
  {
   "cell_type": "code",
   "execution_count": 24,
   "metadata": {},
   "outputs": [],
   "source": [
    "path1= \"C://Users//ADMIN//Pictures//rawdata_resized//0//0_0.png\"\n"
   ]
  },
  {
   "cell_type": "code",
   "execution_count": 23,
   "metadata": {},
   "outputs": [
    {
     "data": {
      "image/png": "[encoded data removed]",
      "text/plain": [
       "<Figure size 432x288 with 1 Axes>"
      ]
     },
     "metadata": {
      "needs_background": "light"
     },
     "output_type": "display_data"
    }
   ],
   "source": [
    "img = mpimg.imread(path1)\n",
    "plt.imshow(img)\n",
    "imgplot = plt.imshow(img)\n",
    "plt.axis('off')\n",
    "plt.show()"
   ]
  },
  {
   "cell_type": "markdown",
   "metadata": {},
   "source": [
    "#### ảnh sau khi chuyển về nhị phân "
   ]
  },
  {
   "cell_type": "code",
   "execution_count": 7,
   "metadata": {},
   "outputs": [
    {
     "name": "stdout",
     "output_type": "stream",
     "text": [
      " 0  0  0  0  0  0  0  0  0  0  0  0  0  0  0  0  0  0  0  0  0  0  0  0  0  0  0  0 \n",
      " 0  0  0  0  0  0  0  0  0  0  0  0  0  0  0  0  0  0  0  0  0  0  0  0  0  0  0  0 \n",
      " 0  0  0  0  0  0  0  0  0  0  0  0  0  0  0  0  0  0  0  0  0  0  0  0  0  0  0  0 \n",
      " 0  0  0  0  0  0  0  0  0  0  0  0  0  0  0  0  0  0  0  0  0  0  0  0  0  0  0  0 \n",
      " 0  0  0  0  0  0  0  0  0  0  0  0  0  0  0  0  0  0  0  0  0  0  0  0  0  0  0  0 \n",
      " 0  0  0  0  0  0  0  0  0  0  0  0  0  0  0  0  0  0  0  0  0  0  0  0  0  0  0  0 \n",
      " 0  0  0  0  0  0  0  0  0  0  0  0  0 255255255255 0  0  0  0  0  0  0  0  0  0  0 \n",
      " 0  0  0  0  0  0  0  0  0  0  0  0 255255255255255255 0  0  0  0  0  0  0  0  0  0 \n",
      " 0  0  0  0  0  0  0  0  0  0  0 255255255 0  0  0 255255 0  0  0  0  0  0  0  0  0 \n",
      " 0  0  0  0  0  0  0  0  0  0 255255255 0  0  0  0 255255255 0  0  0  0  0  0  0  0 \n",
      " 0  0  0  0  0  0  0  0  0  0 255255 0  0  0  0  0  0 255255 0  0  0  0  0  0  0  0 \n",
      " 0  0  0  0  0  0  0  0  0 255255255 0  0  0  0  0  0 255255 0  0  0  0  0  0  0  0 \n",
      " 0  0  0  0  0  0  0  0  0 255255 0  0  0  0  0  0  0  0 255255 0  0  0  0  0  0  0 \n",
      " 0  0  0  0  0  0  0  0 255255255 0  0  0  0  0  0  0  0 255255 0  0  0  0  0  0  0 \n",
      " 0  0  0  0  0  0  0  0 255255 0  0  0  0  0  0  0  0 255255 0  0  0  0  0  0  0  0 \n",
      " 0  0  0  0  0  0  0  0 255255 0  0  0  0  0  0  0  0 255255 0  0  0  0  0  0  0  0 \n",
      " 0  0  0  0  0  0  0  0 255255 0  0  0  0  0  0  0 255255255 0  0  0  0  0  0  0  0 \n",
      " 0  0  0  0  0  0  0  0 255255 0  0  0  0  0  0  0 255255 0  0  0  0  0  0  0  0  0 \n",
      " 0  0  0  0  0  0  0  0 255255 0  0  0  0  0  0 255255 0  0  0  0  0  0  0  0  0  0 \n",
      " 0  0  0  0  0  0  0  0 255255255 0  0  0  0 255255255 0  0  0  0  0  0  0  0  0  0 \n",
      " 0  0  0  0  0  0  0  0  0 255255255 0 255255255 0  0  0  0  0  0  0  0  0  0  0  0 \n",
      " 0  0  0  0  0  0  0  0  0  0 255255255255255 0  0  0  0  0  0  0  0  0  0  0  0  0 \n",
      " 0  0  0  0  0  0  0  0  0  0  0  0  0  0  0  0  0  0  0  0  0  0  0  0  0  0  0  0 \n",
      " 0  0  0  0  0  0  0  0  0  0  0  0  0  0  0  0  0  0  0  0  0  0  0  0  0  0  0  0 \n",
      " 0  0  0  0  0  0  0  0  0  0  0  0  0  0  0  0  0  0  0  0  0  0  0  0  0  0  0  0 \n",
      " 0  0  0  0  0  0  0  0  0  0  0  0  0  0  0  0  0  0  0  0  0  0  0  0  0  0  0  0 \n",
      " 0  0  0  0  0  0  0  0  0  0  0  0  0  0  0  0  0  0  0  0  0  0  0  0  0  0  0  0 \n",
      " 0  0  0  0  0  0  0  0  0  0  0  0  0  0  0  0  0  0  0  0  0  0  0  0  0  0  0  0 \n"
     ]
    }
   ],
   "source": [
    "img_b1 = cv_to_binary(path1)\n",
    "output1(img_b1)"
   ]
  },
  {
   "cell_type": "markdown",
   "metadata": {},
   "source": [
    "#### chuyển ảnh về vector "
   ]
  },
  {
   "cell_type": "code",
   "execution_count": 9,
   "metadata": {},
   "outputs": [
    {
     "name": "stdout",
     "output_type": "stream",
     "text": [
      "784\n",
      "[0, 0, 0, 0, 0, 0, 0, 0, 0, 0, 0, 0, 0, 0, 0, 0, 0, 0, 0, 0, 0, 0, 0, 0, 0, 0, 0, 0, 0, 0, 0, 0, 0, 0, 0, 0, 0, 0, 0, 0, 0, 0, 0, 0, 0, 0, 0, 0, 0, 0, 0, 0, 0, 0, 0, 0, 0, 0, 0, 0, 0, 0, 0, 0, 0, 0, 0, 0, 0, 0, 0, 0, 0, 0, 0, 0, 0, 0, 0, 0, 0, 0, 0, 0, 0, 0, 0, 0, 0, 0, 0, 0, 0, 0, 0, 0, 0, 0, 0, 0, 0, 0, 0, 0, 0, 0, 0, 0, 0, 0, 0, 0, 0, 0, 0, 0, 0, 0, 0, 0, 0, 0, 0, 0, 0, 0, 0, 0, 0, 0, 0, 0, 0, 0, 0, 0, 0, 0, 0, 0, 0, 0, 0, 0, 0, 0, 0, 0, 0, 0, 0, 0, 0, 0, 0, 0, 0, 0, 0, 0, 0, 0, 0, 0, 0, 0, 0, 0, 0, 0, 0, 0, 0, 0, 0, 0, 0, 0, 0, 0, 0, 255, 255, 255, 255, 0, 0, 0, 0, 0, 0, 0, 0, 0, 0, 0, 0, 0, 0, 0, 0, 0, 0, 0, 0, 0, 0, 0, 255, 255, 255, 255, 255, 255, 0, 0, 0, 0, 0, 0, 0, 0, 0, 0, 0, 0, 0, 0, 0, 0, 0, 0, 0, 0, 0, 255, 255, 255, 0, 0, 0, 255, 255, 0, 0, 0, 0, 0, 0, 0, 0, 0, 0, 0, 0, 0, 0, 0, 0, 0, 0, 0, 255, 255, 255, 0, 0, 0, 0, 255, 255, 255, 0, 0, 0, 0, 0, 0, 0, 0, 0, 0, 0, 0, 0, 0, 0, 0, 0, 0, 255, 255, 0, 0, 0, 0, 0, 0, 255, 255, 0, 0, 0, 0, 0, 0, 0, 0, 0, 0, 0, 0, 0, 0, 0, 0, 0, 255, 255, 255, 0, 0, 0, 0, 0, 0, 255, 255, 0, 0, 0, 0, 0, 0, 0, 0, 0, 0, 0, 0, 0, 0, 0, 0, 0, 255, 255, 0, 0, 0, 0, 0, 0, 0, 0, 255, 255, 0, 0, 0, 0, 0, 0, 0, 0, 0, 0, 0, 0, 0, 0, 0, 255, 255, 255, 0, 0, 0, 0, 0, 0, 0, 0, 255, 255, 0, 0, 0, 0, 0, 0, 0, 0, 0, 0, 0, 0, 0, 0, 0, 255, 255, 0, 0, 0, 0, 0, 0, 0, 0, 255, 255, 0, 0, 0, 0, 0, 0, 0, 0, 0, 0, 0, 0, 0, 0, 0, 0, 255, 255, 0, 0, 0, 0, 0, 0, 0, 0, 255, 255, 0, 0, 0, 0, 0, 0, 0, 0, 0, 0, 0, 0, 0, 0, 0, 0, 255, 255, 0, 0, 0, 0, 0, 0, 0, 255, 255, 255, 0, 0, 0, 0, 0, 0, 0, 0, 0, 0, 0, 0, 0, 0, 0, 0, 255, 255, 0, 0, 0, 0, 0, 0, 0, 255, 255, 0, 0, 0, 0, 0, 0, 0, 0, 0, 0, 0, 0, 0, 0, 0, 0, 0, 255, 255, 0, 0, 0, 0, 0, 0, 255, 255, 0, 0, 0, 0, 0, 0, 0, 0, 0, 0, 0, 0, 0, 0, 0, 0, 0, 0, 255, 255, 255, 0, 0, 0, 0, 255, 255, 255, 0, 0, 0, 0, 0, 0, 0, 0, 0, 0, 0, 0, 0, 0, 0, 0, 0, 0, 0, 255, 255, 255, 0, 255, 255, 255, 0, 0, 0, 0, 0, 0, 0, 0, 0, 0, 0, 0, 0, 0, 0, 0, 0, 0, 0, 0, 0, 0, 255, 255, 255, 255, 255, 0, 0, 0, 0, 0, 0, 0, 0, 0, 0, 0, 0, 0, 0, 0, 0, 0, 0, 0, 0, 0, 0, 0, 0, 0, 0, 0, 0, 0, 0, 0, 0, 0, 0, 0, 0, 0, 0, 0, 0, 0, 0, 0, 0, 0, 0, 0, 0, 0, 0, 0, 0, 0, 0, 0, 0, 0, 0, 0, 0, 0, 0, 0, 0, 0, 0, 0, 0, 0, 0, 0, 0, 0, 0, 0, 0, 0, 0, 0, 0, 0, 0, 0, 0, 0, 0, 0, 0, 0, 0, 0, 0, 0, 0, 0, 0, 0, 0, 0, 0, 0, 0, 0, 0, 0, 0, 0, 0, 0, 0, 0, 0, 0, 0, 0, 0, 0, 0, 0, 0, 0, 0, 0, 0, 0, 0, 0, 0, 0, 0, 0, 0, 0, 0, 0, 0, 0, 0, 0, 0, 0, 0, 0, 0, 0, 0, 0, 0, 0, 0, 0, 0, 0, 0, 0, 0, 0, 0, 0, 0, 0, 0, 0, 0, 0, 0, 0, 0, 0, 0, 0, 0, 0, 0, 0, 0, 0, 0, 0, 0, 0]\n"
     ]
    }
   ],
   "source": [
    "vec = cv_to_vector(img_b1)\n",
    "\n",
    "print (len(vec))\n",
    "print (vec)"
   ]
  },
  {
   "cell_type": "markdown",
   "metadata": {},
   "source": [
    "### Thực hiện với toàn bộ dữ liệu "
   ]
  },
  {
   "cell_type": "code",
   "execution_count": 15,
   "metadata": {},
   "outputs": [
    {
     "data": {
      "text/plain": [
       "['C://Users//ADMIN//Pictures//rawdata_resized//0',\n",
       " 'C://Users//ADMIN//Pictures//rawdata_resized//1',\n",
       " 'C://Users//ADMIN//Pictures//rawdata_resized//2',\n",
       " 'C://Users//ADMIN//Pictures//rawdata_resized//3',\n",
       " 'C://Users//ADMIN//Pictures//rawdata_resized//4',\n",
       " 'C://Users//ADMIN//Pictures//rawdata_resized//5',\n",
       " 'C://Users//ADMIN//Pictures//rawdata_resized//6',\n",
       " 'C://Users//ADMIN//Pictures//rawdata_resized//7',\n",
       " 'C://Users//ADMIN//Pictures//rawdata_resized//8',\n",
       " 'C://Users//ADMIN//Pictures//rawdata_resized//9']"
      ]
     },
     "execution_count": 15,
     "metadata": {},
     "output_type": "execute_result"
    }
   ],
   "source": [
    "path = \"C://Users//ADMIN//Pictures//rawdata_resized\"\n",
    "list_path = get_list_path (path, \"\")\n",
    "list_path"
   ]
  },
  {
   "cell_type": "code",
   "execution_count": 29,
   "metadata": {},
   "outputs": [
    {
     "name": "stdout",
     "output_type": "stream",
     "text": [
      "2000\n"
     ]
    },
    {
     "data": {
      "text/plain": [
       "['C://Users//ADMIN//Pictures//rawdata_resized//0//0_0.png',\n",
       " 'C://Users//ADMIN//Pictures//rawdata_resized//1//1_0.png',\n",
       " 'C://Users//ADMIN//Pictures//rawdata_resized//2//2_0.png',\n",
       " 'C://Users//ADMIN//Pictures//rawdata_resized//3//3_0.png',\n",
       " 'C://Users//ADMIN//Pictures//rawdata_resized//4//4_0.png',\n",
       " 'C://Users//ADMIN//Pictures//rawdata_resized//5//5_0.png',\n",
       " 'C://Users//ADMIN//Pictures//rawdata_resized//6//6_0.png',\n",
       " 'C://Users//ADMIN//Pictures//rawdata_resized//7//7_0.png',\n",
       " 'C://Users//ADMIN//Pictures//rawdata_resized//8//8_0.png',\n",
       " 'C://Users//ADMIN//Pictures//rawdata_resized//9//9_0.png']"
      ]
     },
     "execution_count": 29,
     "metadata": {},
     "output_type": "execute_result"
    }
   ],
   "source": [
    "list_file = get_list_file (list_path)\n",
    "\n",
    "print (len (list_file))\n",
    "list_file[::200]"
   ]
  },
  {
   "cell_type": "code",
   "execution_count": null,
   "metadata": {},
   "outputs": [],
   "source": []
  },
  {
   "cell_type": "code",
   "execution_count": 32,
   "metadata": {},
   "outputs": [
    {
     "name": "stdout",
     "output_type": "stream",
     "text": [
      "2000\n"
     ]
    }
   ],
   "source": [
    "vect_img= []\n",
    "for i in range (len(list_file)):\n",
    "    img = cv_to_binary (list_file[i])\n",
    "    vec = cv_to_vector (img)\n",
    "    vect_img.append(vec)\n",
    "    \n",
    "print (len(vect_img))"
   ]
  },
  {
   "cell_type": "markdown",
   "metadata": {},
   "source": [
    "### Gắn nhãn "
   ]
  },
  {
   "cell_type": "code",
   "execution_count": 33,
   "metadata": {},
   "outputs": [
    {
     "data": {
      "text/plain": [
       "[0, 1, 2, 3, 4, 5, 6, 7, 8, 9]"
      ]
     },
     "execution_count": 33,
     "metadata": {},
     "output_type": "execute_result"
    }
   ],
   "source": [
    "labels= [ int(i/200) for i in range (2000) ]\n",
    "labels[::200]"
   ]
  },
  {
   "cell_type": "code",
   "execution_count": 35,
   "metadata": {},
   "outputs": [
    {
     "data": {
      "text/html": [
       "<div>\n",
       "<style scoped>\n",
       "    .dataframe tbody tr th:only-of-type {\n",
       "        vertical-align: middle;\n",
       "    }\n",
       "\n",
       "    .dataframe tbody tr th {\n",
       "        vertical-align: top;\n",
       "    }\n",
       "\n",
       "    .dataframe thead th {\n",
       "        text-align: right;\n",
       "    }\n",
       "</style>\n",
       "<table border=\"1\" class=\"dataframe\">\n",
       "  <thead>\n",
       "    <tr style=\"text-align: right;\">\n",
       "      <th></th>\n",
       "      <th>label</th>\n",
       "      <th>1x1</th>\n",
       "      <th>1x2</th>\n",
       "      <th>1x3</th>\n",
       "      <th>1x4</th>\n",
       "      <th>1x5</th>\n",
       "      <th>1x6</th>\n",
       "      <th>1x7</th>\n",
       "      <th>1x8</th>\n",
       "      <th>1x9</th>\n",
       "      <th>...</th>\n",
       "      <th>28x19</th>\n",
       "      <th>28x20</th>\n",
       "      <th>28x21</th>\n",
       "      <th>28x22</th>\n",
       "      <th>28x23</th>\n",
       "      <th>28x24</th>\n",
       "      <th>28x25</th>\n",
       "      <th>28x26</th>\n",
       "      <th>28x27</th>\n",
       "      <th>28x28</th>\n",
       "    </tr>\n",
       "  </thead>\n",
       "  <tbody>\n",
       "    <tr>\n",
       "      <th>0</th>\n",
       "      <td>2</td>\n",
       "      <td>0</td>\n",
       "      <td>0</td>\n",
       "      <td>0</td>\n",
       "      <td>0</td>\n",
       "      <td>0</td>\n",
       "      <td>0</td>\n",
       "      <td>0</td>\n",
       "      <td>0</td>\n",
       "      <td>0</td>\n",
       "      <td>...</td>\n",
       "      <td>0</td>\n",
       "      <td>0</td>\n",
       "      <td>0</td>\n",
       "      <td>0</td>\n",
       "      <td>0</td>\n",
       "      <td>0</td>\n",
       "      <td>0</td>\n",
       "      <td>0</td>\n",
       "      <td>0</td>\n",
       "      <td>0</td>\n",
       "    </tr>\n",
       "    <tr>\n",
       "      <th>1</th>\n",
       "      <td>0</td>\n",
       "      <td>0</td>\n",
       "      <td>0</td>\n",
       "      <td>0</td>\n",
       "      <td>0</td>\n",
       "      <td>0</td>\n",
       "      <td>0</td>\n",
       "      <td>0</td>\n",
       "      <td>0</td>\n",
       "      <td>0</td>\n",
       "      <td>...</td>\n",
       "      <td>0</td>\n",
       "      <td>0</td>\n",
       "      <td>0</td>\n",
       "      <td>0</td>\n",
       "      <td>0</td>\n",
       "      <td>0</td>\n",
       "      <td>0</td>\n",
       "      <td>0</td>\n",
       "      <td>0</td>\n",
       "      <td>0</td>\n",
       "    </tr>\n",
       "    <tr>\n",
       "      <th>2</th>\n",
       "      <td>3</td>\n",
       "      <td>0</td>\n",
       "      <td>0</td>\n",
       "      <td>0</td>\n",
       "      <td>0</td>\n",
       "      <td>0</td>\n",
       "      <td>0</td>\n",
       "      <td>0</td>\n",
       "      <td>0</td>\n",
       "      <td>0</td>\n",
       "      <td>...</td>\n",
       "      <td>0</td>\n",
       "      <td>0</td>\n",
       "      <td>0</td>\n",
       "      <td>0</td>\n",
       "      <td>0</td>\n",
       "      <td>0</td>\n",
       "      <td>0</td>\n",
       "      <td>0</td>\n",
       "      <td>0</td>\n",
       "      <td>0</td>\n",
       "    </tr>\n",
       "    <tr>\n",
       "      <th>3</th>\n",
       "      <td>2</td>\n",
       "      <td>0</td>\n",
       "      <td>0</td>\n",
       "      <td>0</td>\n",
       "      <td>0</td>\n",
       "      <td>0</td>\n",
       "      <td>0</td>\n",
       "      <td>0</td>\n",
       "      <td>0</td>\n",
       "      <td>0</td>\n",
       "      <td>...</td>\n",
       "      <td>0</td>\n",
       "      <td>0</td>\n",
       "      <td>0</td>\n",
       "      <td>0</td>\n",
       "      <td>0</td>\n",
       "      <td>0</td>\n",
       "      <td>0</td>\n",
       "      <td>0</td>\n",
       "      <td>0</td>\n",
       "      <td>0</td>\n",
       "    </tr>\n",
       "    <tr>\n",
       "      <th>4</th>\n",
       "      <td>1</td>\n",
       "      <td>0</td>\n",
       "      <td>0</td>\n",
       "      <td>0</td>\n",
       "      <td>0</td>\n",
       "      <td>0</td>\n",
       "      <td>0</td>\n",
       "      <td>0</td>\n",
       "      <td>0</td>\n",
       "      <td>0</td>\n",
       "      <td>...</td>\n",
       "      <td>0</td>\n",
       "      <td>0</td>\n",
       "      <td>0</td>\n",
       "      <td>0</td>\n",
       "      <td>0</td>\n",
       "      <td>0</td>\n",
       "      <td>0</td>\n",
       "      <td>0</td>\n",
       "      <td>0</td>\n",
       "      <td>0</td>\n",
       "    </tr>\n",
       "  </tbody>\n",
       "</table>\n",
       "<p>5 rows × 785 columns</p>\n",
       "</div>"
      ],
      "text/plain": [
       "   label  1x1  1x2  1x3  1x4  1x5  1x6  1x7  1x8  1x9  ...    28x19  28x20  \\\n",
       "0      2    0    0    0    0    0    0    0    0    0  ...        0      0   \n",
       "1      0    0    0    0    0    0    0    0    0    0  ...        0      0   \n",
       "2      3    0    0    0    0    0    0    0    0    0  ...        0      0   \n",
       "3      2    0    0    0    0    0    0    0    0    0  ...        0      0   \n",
       "4      1    0    0    0    0    0    0    0    0    0  ...        0      0   \n",
       "\n",
       "   28x21  28x22  28x23  28x24  28x25  28x26  28x27  28x28  \n",
       "0      0      0      0      0      0      0      0      0  \n",
       "1      0      0      0      0      0      0      0      0  \n",
       "2      0      0      0      0      0      0      0      0  \n",
       "3      0      0      0      0      0      0      0      0  \n",
       "4      0      0      0      0      0      0      0      0  \n",
       "\n",
       "[5 rows x 785 columns]"
      ]
     },
     "execution_count": 35,
     "metadata": {},
     "output_type": "execute_result"
    }
   ],
   "source": [
    "s1 = {'label': pd.Series(labels)}\n",
    "s1= pd.DataFrame(s1)\n",
    "#  'images': pd.Series(vect_img)}\n",
    "for i in range (1,29):\n",
    "    for j in range (1,29):\n",
    "        temp = '{}x{}'.format(i,j)\n",
    "        s1[temp]= vect_img[i][j]\n",
    "        \n",
    "data = s1.sample(frac=1).reset_index(drop=True)\n",
    "data.head(5)"
   ]
  },
  {
   "cell_type": "markdown",
   "metadata": {},
   "source": [
    "### Lưu ra file csv"
   ]
  },
  {
   "cell_type": "code",
   "execution_count": null,
   "metadata": {},
   "outputs": [],
   "source": [
    "export_csv= data.to_csv(r'C://Users//ADMIN//Pictures//DATASET//data.csv', index = None, header=True)"
   ]
  },
  {
   "cell_type": "code",
   "execution_count": null,
   "metadata": {},
   "outputs": [],
   "source": []
  }
 ],
 "metadata": {
  "kernelspec": {
   "display_name": "Python 3",
   "language": "python",
   "name": "python3"
  },
  "language_info": {
   "codemirror_mode": {
    "name": "ipython",
    "version": 3
   },
   "file_extension": ".py",
   "mimetype": "text/x-python",
   "name": "python",
   "nbconvert_exporter": "python",
   "pygments_lexer": "ipython3",
   "version": "3.7.1"
  }
 },
 "nbformat": 4,
 "nbformat_minor": 2
}
