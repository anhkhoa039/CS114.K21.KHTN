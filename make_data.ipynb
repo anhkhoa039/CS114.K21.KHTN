{
 "cells": [
  {
   "cell_type": "markdown",
   "metadata": {},
   "source": [
    "#  Thu thập dataset"
   ]
  },
  {
   "cell_type": "code",
   "execution_count": 146,
   "metadata": {},
   "outputs": [],
   "source": [
    "import cv2"
   ]
  },
  {
   "cell_type": "code",
   "execution_count": 147,
   "metadata": {},
   "outputs": [],
   "source": [
    "def get_list_path (path,x):\n",
    "    list_path= []\n",
    "    for i in range (10):\n",
    "#         list_path.append(\"C://Users//ADMIN//Pictures//rawdata_croped//raw_{}\".format(i))\n",
    "        list_path.append(path + \"//{}{}\".format(x,i))\n",
    "    return list_path\n"
   ]
  },
  {
   "cell_type": "code",
   "execution_count": 148,
   "metadata": {},
   "outputs": [],
   "source": [
    "def get_list_file(list_path):\n",
    "    list_file = []\n",
    "    for i in range (len(list_path)):\n",
    "        for j in range (200):\n",
    "            list_file.append(list_path[i] + \"//{}_{}.png\".format(i,j))\n",
    "    return list_file\n"
   ]
  },
  {
   "cell_type": "code",
   "execution_count": 149,
   "metadata": {},
   "outputs": [],
   "source": [
    "def resize (img):\n",
    "    new_width = 28\n",
    "    new_height = 28\n",
    "    img_resized = cv2.resize(src=img, dsize=(new_width, new_height))\n",
    "    return img_resized   \n"
   ]
  },
  {
   "cell_type": "code",
   "execution_count": 150,
   "metadata": {},
   "outputs": [],
   "source": [
    "# convert to binary\n",
    "def cv_to_binary(img_path):\n",
    "    # read color image with grayscale flag: \"cv2.IMREAD_GRAYSCALE\"\n",
    "    \n",
    "    img_grayscale = cv2.imread(img_path, cv2.IMREAD_GRAYSCALE) # shape: (960, 960)\n",
    "    img_binary = cv2.adaptiveThreshold(img_grayscale, \n",
    "                                       maxValue=255, \n",
    "                                       adaptiveMethod=cv2.ADAPTIVE_THRESH_MEAN_C, \n",
    "                                       thresholdType=cv2.THRESH_BINARY_INV,\n",
    "                                       blockSize=15,\n",
    "                                       C=8)\n",
    "    return img_binary"
   ]
  },
  {
   "cell_type": "markdown",
   "metadata": {},
   "source": [
    "## List folder"
   ]
  },
  {
   "cell_type": "code",
   "execution_count": 151,
   "metadata": {},
   "outputs": [
    {
     "data": {
      "text/plain": [
       "['C://Users//ADMIN//Pictures//rawdata_croped//raw_0',\n",
       " 'C://Users//ADMIN//Pictures//rawdata_croped//raw_1',\n",
       " 'C://Users//ADMIN//Pictures//rawdata_croped//raw_2',\n",
       " 'C://Users//ADMIN//Pictures//rawdata_croped//raw_3',\n",
       " 'C://Users//ADMIN//Pictures//rawdata_croped//raw_4',\n",
       " 'C://Users//ADMIN//Pictures//rawdata_croped//raw_5',\n",
       " 'C://Users//ADMIN//Pictures//rawdata_croped//raw_6',\n",
       " 'C://Users//ADMIN//Pictures//rawdata_croped//raw_7',\n",
       " 'C://Users//ADMIN//Pictures//rawdata_croped//raw_8',\n",
       " 'C://Users//ADMIN//Pictures//rawdata_croped//raw_9']"
      ]
     },
     "execution_count": 151,
     "metadata": {},
     "output_type": "execute_result"
    }
   ],
   "source": [
    "# list folder data croped\n",
    "path = \"C://Users//ADMIN//Pictures//rawdata_croped\"\n",
    "list_path = get_list_path (path,\"raw_\")\n",
    "list_path"
   ]
  },
  {
   "cell_type": "markdown",
   "metadata": {},
   "source": [
    "## List file"
   ]
  },
  {
   "cell_type": "code",
   "execution_count": 152,
   "metadata": {},
   "outputs": [
    {
     "data": {
      "text/plain": [
       "['C://Users//ADMIN//Pictures//rawdata_croped//raw_0//0_0.png',\n",
       " 'C://Users//ADMIN//Pictures//rawdata_croped//raw_1//1_0.png',\n",
       " 'C://Users//ADMIN//Pictures//rawdata_croped//raw_2//2_0.png',\n",
       " 'C://Users//ADMIN//Pictures//rawdata_croped//raw_3//3_0.png',\n",
       " 'C://Users//ADMIN//Pictures//rawdata_croped//raw_4//4_0.png',\n",
       " 'C://Users//ADMIN//Pictures//rawdata_croped//raw_5//5_0.png',\n",
       " 'C://Users//ADMIN//Pictures//rawdata_croped//raw_6//6_0.png',\n",
       " 'C://Users//ADMIN//Pictures//rawdata_croped//raw_7//7_0.png',\n",
       " 'C://Users//ADMIN//Pictures//rawdata_croped//raw_8//8_0.png',\n",
       " 'C://Users//ADMIN//Pictures//rawdata_croped//raw_9//9_0.png']"
      ]
     },
     "execution_count": 152,
     "metadata": {},
     "output_type": "execute_result"
    }
   ],
   "source": [
    "# list file image from  rawdata_croped folder\n",
    "list_file = get_list_file(list_path)\n",
    "len(list_file)\n",
    "list_file [::200]"
   ]
  },
  {
   "cell_type": "markdown",
   "metadata": {},
   "source": [
    "# resize image"
   ]
  },
  {
   "cell_type": "code",
   "execution_count": 153,
   "metadata": {},
   "outputs": [],
   "source": [
    "# resize image\n",
    "j = 0 \n",
    "for i in range (len(list_file)):\n",
    "    # load image from path \n",
    "    img = cv2.imread(list_file[i])\n",
    "    img_resized = resize(img)\n",
    "#     cv2.imwrite(list_path[i],img_resized)\n",
    "    if (i+1) % 200==0:\n",
    "        j=j+1\n",
    "    cv2.imwrite('C://Users//ADMIN//Pictures//rawdata_resized//{}//{}_{}.png'.format(j,j,i%200),img_resized)"
   ]
  },
  {
   "cell_type": "markdown",
   "metadata": {},
   "source": [
    "## List folder (resized) "
   ]
  },
  {
   "cell_type": "code",
   "execution_count": 154,
   "metadata": {},
   "outputs": [
    {
     "data": {
      "text/plain": [
       "['C://Users//ADMIN//Pictures//rawdata_resized//0',\n",
       " 'C://Users//ADMIN//Pictures//rawdata_resized//1',\n",
       " 'C://Users//ADMIN//Pictures//rawdata_resized//2',\n",
       " 'C://Users//ADMIN//Pictures//rawdata_resized//3',\n",
       " 'C://Users//ADMIN//Pictures//rawdata_resized//4',\n",
       " 'C://Users//ADMIN//Pictures//rawdata_resized//5',\n",
       " 'C://Users//ADMIN//Pictures//rawdata_resized//6',\n",
       " 'C://Users//ADMIN//Pictures//rawdata_resized//7',\n",
       " 'C://Users//ADMIN//Pictures//rawdata_resized//8',\n",
       " 'C://Users//ADMIN//Pictures//rawdata_resized//9']"
      ]
     },
     "execution_count": 154,
     "metadata": {},
     "output_type": "execute_result"
    }
   ],
   "source": [
    "# list rawdata_croped folder\n",
    "path =  \"C://Users//ADMIN//Pictures//rawdata_resized\"\n",
    "list_path = get_list_path(path,\"\")\n",
    "list_path"
   ]
  },
  {
   "cell_type": "markdown",
   "metadata": {},
   "source": [
    "## List file (resized) "
   ]
  },
  {
   "cell_type": "code",
   "execution_count": 155,
   "metadata": {},
   "outputs": [
    {
     "data": {
      "text/plain": [
       "['C://Users//ADMIN//Pictures//rawdata_resized//0//0_0.png',\n",
       " 'C://Users//ADMIN//Pictures//rawdata_resized//1//1_0.png',\n",
       " 'C://Users//ADMIN//Pictures//rawdata_resized//2//2_0.png',\n",
       " 'C://Users//ADMIN//Pictures//rawdata_resized//3//3_0.png',\n",
       " 'C://Users//ADMIN//Pictures//rawdata_resized//4//4_0.png',\n",
       " 'C://Users//ADMIN//Pictures//rawdata_resized//5//5_0.png',\n",
       " 'C://Users//ADMIN//Pictures//rawdata_resized//6//6_0.png',\n",
       " 'C://Users//ADMIN//Pictures//rawdata_resized//7//7_0.png',\n",
       " 'C://Users//ADMIN//Pictures//rawdata_resized//8//8_0.png',\n",
       " 'C://Users//ADMIN//Pictures//rawdata_resized//9//9_0.png']"
      ]
     },
     "execution_count": 155,
     "metadata": {},
     "output_type": "execute_result"
    }
   ],
   "source": [
    "# list file image from  rawdata_resized folder\n",
    "list_file = get_list_file(list_path)\n",
    "len(list_file)\n",
    "list_file [::200]"
   ]
  },
  {
   "cell_type": "markdown",
   "metadata": {},
   "source": [
    "## Convert to binary image "
   ]
  },
  {
   "cell_type": "code",
   "execution_count": 156,
   "metadata": {
    "collapsed": true
   },
   "outputs": [
    {
     "ename": "error",
     "evalue": "OpenCV(4.2.0) C:/projects/opencv-python/opencv/modules/imgproc/src/filter.simd.hpp:221: error: (-215:Assertion failed) src && dst && count > 0 in function 'cv::opt_AVX2::FilterEngine__proceed'\n",
     "output_type": "error",
     "traceback": [
      "\u001b[1;31m---------------------------------------------------------------------------\u001b[0m",
      "\u001b[1;31merror\u001b[0m                                     Traceback (most recent call last)",
      "\u001b[1;32m<ipython-input-156-5a0965ff319d>\u001b[0m in \u001b[0;36m<module>\u001b[1;34m\u001b[0m\n\u001b[0;32m      1\u001b[0m \u001b[1;32mfor\u001b[0m \u001b[0mi\u001b[0m \u001b[1;32min\u001b[0m \u001b[0mrange\u001b[0m \u001b[1;33m(\u001b[0m\u001b[0mlen\u001b[0m\u001b[1;33m(\u001b[0m\u001b[0mlist_file\u001b[0m\u001b[1;33m)\u001b[0m\u001b[1;33m)\u001b[0m\u001b[1;33m:\u001b[0m\u001b[1;33m\u001b[0m\u001b[1;33m\u001b[0m\u001b[0m\n\u001b[0;32m      2\u001b[0m     \u001b[0mimg_path\u001b[0m \u001b[1;33m=\u001b[0m \u001b[0mlist_path\u001b[0m\u001b[1;33m[\u001b[0m\u001b[0mi\u001b[0m\u001b[1;33m]\u001b[0m\u001b[1;33m\u001b[0m\u001b[1;33m\u001b[0m\u001b[0m\n\u001b[1;32m----> 3\u001b[1;33m     \u001b[0mimg_binary\u001b[0m \u001b[1;33m=\u001b[0m \u001b[0mcv_to_binary\u001b[0m\u001b[1;33m(\u001b[0m\u001b[0mimg_path\u001b[0m\u001b[1;33m)\u001b[0m\u001b[1;33m\u001b[0m\u001b[1;33m\u001b[0m\u001b[0m\n\u001b[0m\u001b[0;32m      4\u001b[0m     \u001b[0mcv2\u001b[0m\u001b[1;33m.\u001b[0m\u001b[0mimwrite\u001b[0m\u001b[1;33m(\u001b[0m\u001b[1;34m'C://Users//ADMIN//Pictures//rawdata_croped//New folder_binary//{}.png'\u001b[0m\u001b[1;33m.\u001b[0m\u001b[0mformat\u001b[0m\u001b[1;33m(\u001b[0m\u001b[0mi\u001b[0m\u001b[1;33m)\u001b[0m\u001b[1;33m,\u001b[0m \u001b[0mimg_binary\u001b[0m\u001b[1;33m)\u001b[0m\u001b[1;33m\u001b[0m\u001b[1;33m\u001b[0m\u001b[0m\n",
      "\u001b[1;32m<ipython-input-150-ed1a18ce629d>\u001b[0m in \u001b[0;36mcv_to_binary\u001b[1;34m(img_path)\u001b[0m\n\u001b[0;32m      9\u001b[0m                                        \u001b[0mthresholdType\u001b[0m\u001b[1;33m=\u001b[0m\u001b[0mcv2\u001b[0m\u001b[1;33m.\u001b[0m\u001b[0mTHRESH_BINARY_INV\u001b[0m\u001b[1;33m,\u001b[0m\u001b[1;33m\u001b[0m\u001b[1;33m\u001b[0m\u001b[0m\n\u001b[0;32m     10\u001b[0m                                        \u001b[0mblockSize\u001b[0m\u001b[1;33m=\u001b[0m\u001b[1;36m15\u001b[0m\u001b[1;33m,\u001b[0m\u001b[1;33m\u001b[0m\u001b[1;33m\u001b[0m\u001b[0m\n\u001b[1;32m---> 11\u001b[1;33m                                        C=8)\n\u001b[0m\u001b[0;32m     12\u001b[0m     \u001b[1;32mreturn\u001b[0m \u001b[0mimg_binary\u001b[0m\u001b[1;33m\u001b[0m\u001b[1;33m\u001b[0m\u001b[0m\n",
      "\u001b[1;31merror\u001b[0m: OpenCV(4.2.0) C:/projects/opencv-python/opencv/modules/imgproc/src/filter.simd.hpp:221: error: (-215:Assertion failed) src && dst && count > 0 in function 'cv::opt_AVX2::FilterEngine__proceed'\n"
     ]
    }
   ],
   "source": [
    "\n",
    "j = 0 \n",
    "for i in range (len(list_file)):\n",
    "    # load image from path \n",
    "    img = cv2.imread(list_file[i])\n",
    "    img_binary = resize(list_file[i])\n",
    "    if (i+1) % 200==0:\n",
    "        j=j+1\n",
    "    cv2.imwrite('C://Users//ADMIN//Pictures//DATASET//{}//{}_{}.png'.format(j,j,i%200),img_binary)"
   ]
  }
 ],
 "metadata": {
  "kernelspec": {
   "display_name": "Python 3",
   "language": "python",
   "name": "python3"
  },
  "language_info": {
   "codemirror_mode": {
    "name": "ipython",
    "version": 3
   },
   "file_extension": ".py",
   "mimetype": "text/x-python",
   "name": "python",
   "nbconvert_exporter": "python",
   "pygments_lexer": "ipython3",
   "version": "3.7.1"
  }
 },
 "nbformat": 4,
 "nbformat_minor": 2
}
