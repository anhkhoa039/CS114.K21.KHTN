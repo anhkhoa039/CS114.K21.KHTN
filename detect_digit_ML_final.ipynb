{
  "nbformat": 4,
  "nbformat_minor": 0,
  "metadata": {
    "colab": {
      "name": "detect_digit_ML_final.ipynb",
      "provenance": [],
      "collapsed_sections": [],
      "authorship_tag": "ABX9TyO75x24lm/o0kmlfFG06KeV",
      "include_colab_link": true
    },
    "kernelspec": {
      "name": "python3",
      "display_name": "Python 3"
    }
  },
  "cells": [
    {
      "cell_type": "markdown",
      "metadata": {
        "id": "view-in-github",
        "colab_type": "text"
      },
      "source": [
        "<a href=\"https://colab.research.google.com/github/anhkhoa039/CS114.K21.KHTN/blob/master/detect_digit_ML_final.ipynb\" target=\"_parent\"><img src=\"https://colab.research.google.com/assets/colab-badge.svg\" alt=\"Open In Colab\"/></a>"
      ]
    },
    {
      "cell_type": "markdown",
      "metadata": {
        "id": "sBSWKWhYzD10",
        "colab_type": "text"
      },
      "source": [
        "#Đề tài: Nhận diện số viết tay\n",
        "Input: ảnh của 1 số viết tay\n",
        "Ouput: "
      ]
    },
    {
      "cell_type": "code",
      "metadata": {
        "id": "ezCJVGBu3Rme",
        "colab_type": "code",
        "colab": {}
      },
      "source": [
        ""
      ],
      "execution_count": 10,
      "outputs": []
    },
    {
      "cell_type": "code",
      "metadata": {
        "id": "7IBCdeIiAy3w",
        "colab_type": "code",
        "colab": {
          "base_uri": "https://localhost:8080/",
          "height": 54
        },
        "outputId": "f197f352-ef69-4514-bdb0-5758b73ce2cb"
      },
      "source": [
        "from google.colab import drive\n",
        "drive.mount('/content/drive')"
      ],
      "execution_count": 11,
      "outputs": [
        {
          "output_type": "stream",
          "text": [
            "Drive already mounted at /content/drive; to attempt to forcibly remount, call drive.mount(\"/content/drive\", force_remount=True).\n"
          ],
          "name": "stdout"
        }
      ]
    },
    {
      "cell_type": "code",
      "metadata": {
        "id": "DAW0Oezgy51_",
        "colab_type": "code",
        "colab": {}
      },
      "source": [
        "import cv2"
      ],
      "execution_count": 12,
      "outputs": []
    },
    {
      "cell_type": "code",
      "metadata": {
        "id": "QrzssEvc3Rke",
        "colab_type": "code",
        "colab": {}
      },
      "source": [
        "# convert anh nhi phan sang mang\n",
        "\n",
        "def get_images(img_file, number):\n",
        "    f = open(img_file, \"rb\") # Open file in binary mode\n",
        "    f.read(16) # Skip 16 bytes header\n",
        "    images = []\n",
        "\n",
        "    for i in range(number):\n",
        "        image = []\n",
        "        for j in range(28*28):\n",
        "            image.append(ord(f.read(1)))\n",
        "        images.append(image)\n",
        "    return images\n",
        "\n",
        "def get_labels(label_file, number):\n",
        "    l = open(label_file, \"rb\") # Open file in binary mode\n",
        "    l.read(8) # Skip 8 bytes header\n",
        "    labels = []\n",
        "    for i in range(number):\n",
        "        labels.append(ord(l.read(1)))\n",
        "    return labels"
      ],
      "execution_count": 19,
      "outputs": []
    },
    {
      "cell_type": "code",
      "metadata": {
        "id": "_IMf2mJg3ReV",
        "colab_type": "code",
        "colab": {}
      },
      "source": [
        "import os\n",
        "import numpy as np\n",
        "from skimage import io\n",
        "\n",
        "def convert_png(images, labels, directory):\n",
        "    if not os.path.exists(directory):\n",
        "        os.mkdir(directory)\n",
        "\n",
        "    for i in range(len(images)):\n",
        "        out = os.path.join(directory, \"%06d-num%d.png\"%(i,labels[i]))\n",
        "        io.imsave(out, np.array(images[i]).reshape(28,28))"
      ],
      "execution_count": 18,
      "outputs": []
    },
    {
      "cell_type": "code",
      "metadata": {
        "id": "Oxm9u9W9BSG7",
        "colab_type": "code",
        "colab": {
          "base_uri": "https://localhost:8080/",
          "height": 272
        },
        "outputId": "42902f42-6382-4697-a254-1f47e95a9ce0"
      },
      "source": [
        "pip install scikit-image"
      ],
      "execution_count": 15,
      "outputs": [
        {
          "output_type": "stream",
          "text": [
            "Requirement already satisfied: scikit-image in /usr/local/lib/python3.6/dist-packages (0.16.2)\n",
            "Requirement already satisfied: networkx>=2.0 in /usr/local/lib/python3.6/dist-packages (from scikit-image) (2.4)\n",
            "Requirement already satisfied: scipy>=0.19.0 in /usr/local/lib/python3.6/dist-packages (from scikit-image) (1.4.1)\n",
            "Requirement already satisfied: pillow>=4.3.0 in /usr/local/lib/python3.6/dist-packages (from scikit-image) (7.0.0)\n",
            "Requirement already satisfied: imageio>=2.3.0 in /usr/local/lib/python3.6/dist-packages (from scikit-image) (2.4.1)\n",
            "Requirement already satisfied: matplotlib!=3.0.0,>=2.0.0 in /usr/local/lib/python3.6/dist-packages (from scikit-image) (3.2.2)\n",
            "Requirement already satisfied: PyWavelets>=0.4.0 in /usr/local/lib/python3.6/dist-packages (from scikit-image) (1.1.1)\n",
            "Requirement already satisfied: decorator>=4.3.0 in /usr/local/lib/python3.6/dist-packages (from networkx>=2.0->scikit-image) (4.4.2)\n",
            "Requirement already satisfied: numpy>=1.13.3 in /usr/local/lib/python3.6/dist-packages (from scipy>=0.19.0->scikit-image) (1.18.5)\n",
            "Requirement already satisfied: cycler>=0.10 in /usr/local/lib/python3.6/dist-packages (from matplotlib!=3.0.0,>=2.0.0->scikit-image) (0.10.0)\n",
            "Requirement already satisfied: kiwisolver>=1.0.1 in /usr/local/lib/python3.6/dist-packages (from matplotlib!=3.0.0,>=2.0.0->scikit-image) (1.2.0)\n",
            "Requirement already satisfied: python-dateutil>=2.1 in /usr/local/lib/python3.6/dist-packages (from matplotlib!=3.0.0,>=2.0.0->scikit-image) (2.8.1)\n",
            "Requirement already satisfied: pyparsing!=2.0.4,!=2.1.2,!=2.1.6,>=2.0.1 in /usr/local/lib/python3.6/dist-packages (from matplotlib!=3.0.0,>=2.0.0->scikit-image) (2.4.7)\n",
            "Requirement already satisfied: six in /usr/local/lib/python3.6/dist-packages (from cycler>=0.10->matplotlib!=3.0.0,>=2.0.0->scikit-image) (1.12.0)\n"
          ],
          "name": "stdout"
        }
      ]
    },
    {
      "cell_type": "code",
      "metadata": {
        "id": "kKHrsdQIBSJT",
        "colab_type": "code",
        "colab": {
          "base_uri": "https://localhost:8080/",
          "height": 212
        },
        "outputId": "89111d03-4602-4417-a773-ad6109964269"
      },
      "source": [
        "number = 100\n",
        "train_images = get_images(\"/content/drive/My Drive/Colab Notebooks/Dataset/MNIST/train-images.idx3-ubyte\", number)\n",
        "\n",
        "train_labels = get_labels(\"/content/drive/My Drive/Colab Notebooks/Dataset/MNIST/train-labels.idx1-ubyte\", number)\n",
        "\n",
        "test_images = get_images()\n",
        "convert_png(train_images, train_labels, \"preview\")"
      ],
      "execution_count": 20,
      "outputs": [
        {
          "output_type": "error",
          "ename": "TypeError",
          "evalue": "ignored",
          "traceback": [
            "\u001b[0;31m---------------------------------------------------------------------------\u001b[0m",
            "\u001b[0;31mTypeError\u001b[0m                                 Traceback (most recent call last)",
            "\u001b[0;32m<ipython-input-20-00bcf14bcbd7>\u001b[0m in \u001b[0;36m<module>\u001b[0;34m()\u001b[0m\n\u001b[1;32m      4\u001b[0m \u001b[0mtrain_labels\u001b[0m \u001b[0;34m=\u001b[0m \u001b[0mget_labels\u001b[0m\u001b[0;34m(\u001b[0m\u001b[0;34m\"/content/drive/My Drive/Colab Notebooks/Dataset/MNIST/train-labels.idx1-ubyte\"\u001b[0m\u001b[0;34m,\u001b[0m \u001b[0mnumber\u001b[0m\u001b[0;34m)\u001b[0m\u001b[0;34m\u001b[0m\u001b[0;34m\u001b[0m\u001b[0m\n\u001b[1;32m      5\u001b[0m \u001b[0;34m\u001b[0m\u001b[0m\n\u001b[0;32m----> 6\u001b[0;31m \u001b[0mtest_images\u001b[0m \u001b[0;34m=\u001b[0m \u001b[0mget_images\u001b[0m\u001b[0;34m(\u001b[0m\u001b[0;34m)\u001b[0m\u001b[0;34m\u001b[0m\u001b[0;34m\u001b[0m\u001b[0m\n\u001b[0m\u001b[1;32m      7\u001b[0m \u001b[0mconvert_png\u001b[0m\u001b[0;34m(\u001b[0m\u001b[0mtrain_images\u001b[0m\u001b[0;34m,\u001b[0m \u001b[0mtrain_labels\u001b[0m\u001b[0;34m,\u001b[0m \u001b[0;34m\"preview\"\u001b[0m\u001b[0;34m)\u001b[0m\u001b[0;34m\u001b[0m\u001b[0;34m\u001b[0m\u001b[0m\n",
            "\u001b[0;31mTypeError\u001b[0m: get_images() missing 2 required positional arguments: 'img_file' and 'number'"
          ]
        }
      ]
    },
    {
      "cell_type": "code",
      "metadata": {
        "id": "AGjyGWTABSOA",
        "colab_type": "code",
        "colab": {}
      },
      "source": [
        "# convert sang csv\n",
        "def output_csv(images, labels, out_file):\n",
        "    o = open(out_file, \"w\")\n",
        "    for i in range(len(images)):\n",
        "        o.write(\",\".join(str(x) for x in [labels[i]] + images[i]) + \"\\n\")\n",
        "    o.close()"
      ],
      "execution_count": 21,
      "outputs": []
    },
    {
      "cell_type": "code",
      "metadata": {
        "id": "Ojmnmns4BSQa",
        "colab_type": "code",
        "colab": {}
      },
      "source": [
        "pip install python-mnist"
      ],
      "execution_count": null,
      "outputs": []
    },
    {
      "cell_type": "code",
      "metadata": {
        "id": "TbLbK3LrBSVZ",
        "colab_type": "code",
        "colab": {
          "base_uri": "https://localhost:8080/",
          "height": 101
        },
        "outputId": "a80094d4-8ee7-4485-87ba-25061b7aa8aa"
      },
      "source": [
        "import numpy as np\n",
        "from sklearn import svm, metrics\n",
        "\n",
        "print(\"TRAIN\")\n",
        "TRAINING_SIZE = 10000\n",
        "train_images = get_images(\"/content/drive/My Drive/Colab Notebooks/Dataset/MNIST/train-images.idx3-ubyte\", number)\n",
        "train_images = np.array(train_images)/255\n",
        "train_labels = get_labels(\"/content/drive/My Drive/Colab Notebooks/Dataset/MNIST/train-labels.idx1-ubyte\", number)\n",
        "\n",
        "clf = svm.SVC()\n",
        "clf.fit(train_images, train_labels)"
      ],
      "execution_count": 22,
      "outputs": [
        {
          "output_type": "stream",
          "text": [
            "TRAIN\n"
          ],
          "name": "stdout"
        },
        {
          "output_type": "execute_result",
          "data": {
            "text/plain": [
              "SVC(C=1.0, break_ties=False, cache_size=200, class_weight=None, coef0=0.0,\n",
              "    decision_function_shape='ovr', degree=3, gamma='scale', kernel='rbf',\n",
              "    max_iter=-1, probability=False, random_state=None, shrinking=True,\n",
              "    tol=0.001, verbose=False)"
            ]
          },
          "metadata": {
            "tags": []
          },
          "execution_count": 22
        }
      ]
    },
    {
      "cell_type": "code",
      "metadata": {
        "id": "_cXnHGyRBSS8",
        "colab_type": "code",
        "colab": {
          "base_uri": "https://localhost:8080/",
          "height": 406
        },
        "outputId": "2883a56f-17eb-4a54-af96-665809a444c2"
      },
      "source": [
        "TEST_SIZE = 500\n",
        "test_images = get_images(\"/content/drive/My Drive/Colab Notebooks/Dataset/MNIST/t10k-images.idx3-ubyte\", TEST_SIZE)\n",
        "test_images = np.array(test_images)/255\n",
        "test_labels = get_labels(\"/content/drive/My Drive/Colab Notebooks/Dataset/MNIST/t10k-labels.idx1-ubyte\", TEST_SIZE)\n",
        "\n",
        "print(\"PREDICT\")\n",
        "predict = clf.predict(test_images)\n",
        "\n",
        "print(\"RESULT\")\n",
        "ac_score = metrics.accuracy_score(test_labels, predict)\n",
        "cl_report = metrics.classification_report(test_labels, predict)\n",
        "print(\"Score = \", ac_score)\n",
        "print(cl_report)"
      ],
      "execution_count": 24,
      "outputs": [
        {
          "output_type": "stream",
          "text": [
            "PREDICT\n",
            "RESULT\n",
            "Score =  0.612\n",
            "              precision    recall  f1-score   support\n",
            "\n",
            "           0       0.82      0.86      0.84        42\n",
            "           1       0.68      1.00      0.81        67\n",
            "           2       0.84      0.47      0.60        55\n",
            "           3       0.55      0.89      0.68        45\n",
            "           4       0.35      0.84      0.50        55\n",
            "           5       0.00      0.00      0.00        50\n",
            "           6       0.96      0.53      0.69        43\n",
            "           7       0.87      0.67      0.76        49\n",
            "           8       0.81      0.42      0.56        40\n",
            "           9       0.44      0.33      0.38        54\n",
            "\n",
            "    accuracy                           0.61       500\n",
            "   macro avg       0.63      0.60      0.58       500\n",
            "weighted avg       0.62      0.61      0.58       500\n",
            "\n"
          ],
          "name": "stdout"
        },
        {
          "output_type": "stream",
          "text": [
            "/usr/local/lib/python3.6/dist-packages/sklearn/metrics/_classification.py:1272: UndefinedMetricWarning: Precision and F-score are ill-defined and being set to 0.0 in labels with no predicted samples. Use `zero_division` parameter to control this behavior.\n",
            "  _warn_prf(average, modifier, msg_start, len(result))\n"
          ],
          "name": "stderr"
        }
      ]
    },
    {
      "cell_type": "code",
      "metadata": {
        "id": "IPsG-XS9cpd9",
        "colab_type": "code",
        "colab": {}
      },
      "source": [
        ""
      ],
      "execution_count": null,
      "outputs": []
    },
    {
      "cell_type": "code",
      "metadata": {
        "id": "XXKSa9hdcpnC",
        "colab_type": "code",
        "colab": {}
      },
      "source": [
        ""
      ],
      "execution_count": null,
      "outputs": []
    }
  ]
}