{
  "nbformat": 4,
  "nbformat_minor": 0,
  "metadata": {
    "colab": {
      "name": "Untitled3.ipynb",
      "provenance": [],
      "authorship_tag": "ABX9TyNXsBq1gHzqoLYH9Jskk4aS",
      "include_colab_link": true
    },
    "kernelspec": {
      "name": "python3",
      "display_name": "Python 3"
    }
  },
  "cells": [
    {
      "cell_type": "markdown",
      "metadata": {
        "id": "view-in-github",
        "colab_type": "text"
      },
      "source": [
        "<a href=\"https://colab.research.google.com/github/anhkhoa039/CS114.K21.KHTN/blob/master/%C4%91%E1%BB%81%20t%C3%A0i.ipynb\" target=\"_parent\"><img src=\"https://colab.research.google.com/assets/colab-badge.svg\" alt=\"Open In Colab\"/></a>"
      ]
    },
    {
      "cell_type": "code",
      "metadata": {
        "id": "VvSuLNtM56Wx",
        "colab_type": "code",
        "colab": {}
      },
      "source": [
        ""
      ],
      "execution_count": 0,
      "outputs": []
    },
    {
      "cell_type": "markdown",
      "metadata": {
        "id": "U9StZSjZ58HG",
        "colab_type": "text"
      },
      "source": [
        "Mô tả bài toán: Nhận dạng biển báo giao thông\n",
        "1.\n",
        "Input: 1 bức ảnh biển báo giao thông\n",
        "Output: tên tướng ứng của biển báo\n",
        "2. Mô tả về bộ dữ liệu:\n",
        "+ cách thức xây dựng bộ dữ liệu: \n",
        "-\tNhóm 4 bạn làm chung đề tài này nên sẽ tự xây dựng tập dữ liệu dùng chung\n",
        "+ số lượng, độ đa dạng: 2000 tấm hình tự chụp \n",
        "+ các thao tác tiền xử lý dữ liệu: \n",
        "Phân loại ảnh: phân loại ảnh dựa vòa màu đỏ trên các biển báo cấm và nguy hiểm;màu xanh lam trên các biển hiệu lệnh và chỉ dẫn\n",
        "3. Mô tả về đặc trưng:\n",
        "4. mô tả về thuật toán máy học\n",
        "\n",
        "\n",
        "\n",
        "\n",
        "\n"
      ]
    }
  ]
}