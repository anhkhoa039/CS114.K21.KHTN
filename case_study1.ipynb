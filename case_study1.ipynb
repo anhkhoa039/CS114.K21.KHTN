{
  "nbformat": 4,
  "nbformat_minor": 0,
  "metadata": {
    "colab": {
      "name": "case_study1.ipynb",
      "provenance": [],
      "authorship_tag": "ABX9TyPFSEBXT/I65HqtZHUnhldS",
      "include_colab_link": true
    },
    "kernelspec": {
      "name": "python3",
      "display_name": "Python 3"
    }
  },
  "cells": [
    {
      "cell_type": "markdown",
      "metadata": {
        "id": "view-in-github",
        "colab_type": "text"
      },
      "source": [
        "<a href=\"https://colab.research.google.com/github/anhkhoa039/CS114.K21.KHTN/blob/master/case_study1.ipynb\" target=\"_parent\"><img src=\"https://colab.research.google.com/assets/colab-badge.svg\" alt=\"Open In Colab\"/></a>"
      ]
    },
    {
      "cell_type": "code",
      "metadata": {
        "id": "2NvqXM3ep4g3",
        "colab_type": "code",
        "colab": {}
      },
      "source": [
        ""
      ],
      "execution_count": null,
      "outputs": []
    },
    {
      "cell_type": "markdown",
      "metadata": {
        "id": "soyrGRF2p6_U",
        "colab_type": "text"
      },
      "source": [
        "## Sarcasm Detection xác định châm biếm\n",
        "# Mô tả bài toán:\n",
        "\n",
        "- Input : input là 1 headline tiếng anh bất kỳ\n",
        "- Output : từ headline dự đoán đó là bài báo châm biếm hay không châm biếm \n",
        "\n",
        "- Thu thập Dataset: thu thập các healines từ 2 trang tin tức TheOnion \n",
        "và HuffPost. Một trang đưa các tin châm biếm và 1 trang đưa thông tin chính xác.\n",
        "- Mô tả dataset: mỗi phần tử trong dataset là 1 bộ có 3 thuộc tính: \n",
        "    - article_link: link dẫn tới bài viết gốc\n",
        "    - healine: tiêu đề bài viết \n",
        "    - is_sarcastic: 0 hoặc 1. 0: không châm biếm, 1: châm biếm\n"
      ]
    },
    {
      "cell_type": "markdown",
      "metadata": {
        "id": "hdP4e824z_JM",
        "colab_type": "text"
      },
      "source": [
        "#THU THẬP 2000 HEADLINES MỚI\n",
        "- Thu thập headline từ 2 trang TheOnion và Huffpost sử dụng extention scraper trên google chrom\n",
        "- 2000 headlines chia đều cho 2 trang, mỗi trang 1000 headlines\n",
        "- Sử dụng Scraper extention lấy được các headlines từ 2 trang Huffpost và theOnion và được gắn nhãn bằng excel và xuất ra file .csv\n",
        "- Headlines trên Huffpost được gắn nhãn là 0 và trên theOnion là 1"
      ]
    },
    {
      "cell_type": "markdown",
      "metadata": {
        "id": "65L3Hp05MUl4",
        "colab_type": "text"
      },
      "source": [
        "# 2000 HEADLINES MỚI"
      ]
    },
    {
      "cell_type": "code",
      "metadata": {
        "id": "qAfaEkMREm6U",
        "colab_type": "code",
        "colab": {
          "base_uri": "https://localhost:8080/",
          "height": 34
        },
        "outputId": "74b30aa5-534b-4132-fe9b-9ed6e1bcc3ef"
      },
      "source": [
        "from google.colab import drive\n",
        "drive.mount('/content/drive')"
      ],
      "execution_count": 64,
      "outputs": [
        {
          "output_type": "stream",
          "text": [
            "Drive already mounted at /content/drive; to attempt to forcibly remount, call drive.mount(\"/content/drive\", force_remount=True).\n"
          ],
          "name": "stdout"
        }
      ]
    },
    {
      "cell_type": "code",
      "metadata": {
        "id": "cU0TQghbz-Q-",
        "colab_type": "code",
        "colab": {
          "base_uri": "https://localhost:8080/",
          "height": 195
        },
        "outputId": "0f7b1d73-13d6-4bb9-ebaf-77c54e555579"
      },
      "source": [
        "import pandas as np\n",
        "\n",
        "huffpost = pd.read_csv ('/content/drive/My Drive/Colab Notebooks/Dataset/Sarcasm Detection/huffpost1.csv', header=0)\n",
        "huffpost.head(5)"
      ],
      "execution_count": 65,
      "outputs": [
        {
          "output_type": "execute_result",
          "data": {
            "text/html": [
              "<div>\n",
              "<style scoped>\n",
              "    .dataframe tbody tr th:only-of-type {\n",
              "        vertical-align: middle;\n",
              "    }\n",
              "\n",
              "    .dataframe tbody tr th {\n",
              "        vertical-align: top;\n",
              "    }\n",
              "\n",
              "    .dataframe thead th {\n",
              "        text-align: right;\n",
              "    }\n",
              "</style>\n",
              "<table border=\"1\" class=\"dataframe\">\n",
              "  <thead>\n",
              "    <tr style=\"text-align: right;\">\n",
              "      <th></th>\n",
              "      <th>is_sarcastic</th>\n",
              "      <th>headline</th>\n",
              "    </tr>\n",
              "  </thead>\n",
              "  <tbody>\n",
              "    <tr>\n",
              "      <th>0</th>\n",
              "      <td>0</td>\n",
              "      <td>Zoomers Boast They Sabotaged Trump Rally Turno...</td>\n",
              "    </tr>\n",
              "    <tr>\n",
              "      <th>1</th>\n",
              "      <td>0</td>\n",
              "      <td>Millions Are Unemployed. Crises Abound. Is It ...</td>\n",
              "    </tr>\n",
              "    <tr>\n",
              "      <th>2</th>\n",
              "      <td>0</td>\n",
              "      <td>Investing In Harm Reduction Must Be Included I...</td>\n",
              "    </tr>\n",
              "    <tr>\n",
              "      <th>3</th>\n",
              "      <td>0</td>\n",
              "      <td>UK Stabbing Attack Declared A Terrorist Incide...</td>\n",
              "    </tr>\n",
              "    <tr>\n",
              "      <th>4</th>\n",
              "      <td>0</td>\n",
              "      <td>Minneapolis Shooting Leaves 1 Dead, 11 Injured</td>\n",
              "    </tr>\n",
              "  </tbody>\n",
              "</table>\n",
              "</div>"
            ],
            "text/plain": [
              "   is_sarcastic                                           headline\n",
              "0             0  Zoomers Boast They Sabotaged Trump Rally Turno...\n",
              "1             0  Millions Are Unemployed. Crises Abound. Is It ...\n",
              "2             0  Investing In Harm Reduction Must Be Included I...\n",
              "3             0  UK Stabbing Attack Declared A Terrorist Incide...\n",
              "4             0     Minneapolis Shooting Leaves 1 Dead, 11 Injured"
            ]
          },
          "metadata": {
            "tags": []
          },
          "execution_count": 65
        }
      ]
    },
    {
      "cell_type": "code",
      "metadata": {
        "id": "Tiv7wyVOS2Rs",
        "colab_type": "code",
        "colab": {
          "base_uri": "https://localhost:8080/",
          "height": 195
        },
        "outputId": "50839ad4-81db-47d9-c6e0-cc14d00ca15a"
      },
      "source": [
        "theonion= pd.read_csv ('/content/drive/My Drive/Colab Notebooks/Dataset/Sarcasm Detection/theonion1.csv',header =0)\n",
        "theonion.head(5)"
      ],
      "execution_count": 66,
      "outputs": [
        {
          "output_type": "execute_result",
          "data": {
            "text/html": [
              "<div>\n",
              "<style scoped>\n",
              "    .dataframe tbody tr th:only-of-type {\n",
              "        vertical-align: middle;\n",
              "    }\n",
              "\n",
              "    .dataframe tbody tr th {\n",
              "        vertical-align: top;\n",
              "    }\n",
              "\n",
              "    .dataframe thead th {\n",
              "        text-align: right;\n",
              "    }\n",
              "</style>\n",
              "<table border=\"1\" class=\"dataframe\">\n",
              "  <thead>\n",
              "    <tr style=\"text-align: right;\">\n",
              "      <th></th>\n",
              "      <th>is_sarcastic</th>\n",
              "      <th>headline</th>\n",
              "    </tr>\n",
              "  </thead>\n",
              "  <tbody>\n",
              "    <tr>\n",
              "      <th>0</th>\n",
              "      <td>1</td>\n",
              "      <td>Potentially Promising Covid-19 Vaccine Hits Ro...</td>\n",
              "    </tr>\n",
              "    <tr>\n",
              "      <th>1</th>\n",
              "      <td>1</td>\n",
              "      <td>Woman Who Hasn’t Attended Protest Yet Hoping P...</td>\n",
              "    </tr>\n",
              "    <tr>\n",
              "      <th>2</th>\n",
              "      <td>1</td>\n",
              "      <td>8-Month Odyssey Of Distress, Despair Ends In R...</td>\n",
              "    </tr>\n",
              "    <tr>\n",
              "      <th>3</th>\n",
              "      <td>1</td>\n",
              "      <td>TikTok Apologizes After Inadvertently Giving P...</td>\n",
              "    </tr>\n",
              "    <tr>\n",
              "      <th>4</th>\n",
              "      <td>1</td>\n",
              "      <td>Congress Announces Willingness To Offer Black ...</td>\n",
              "    </tr>\n",
              "  </tbody>\n",
              "</table>\n",
              "</div>"
            ],
            "text/plain": [
              "   is_sarcastic                                           headline\n",
              "0             1  Potentially Promising Covid-19 Vaccine Hits Ro...\n",
              "1             1  Woman Who Hasn’t Attended Protest Yet Hoping P...\n",
              "2             1  8-Month Odyssey Of Distress, Despair Ends In R...\n",
              "3             1  TikTok Apologizes After Inadvertently Giving P...\n",
              "4             1  Congress Announces Willingness To Offer Black ..."
            ]
          },
          "metadata": {
            "tags": []
          },
          "execution_count": 66
        }
      ]
    },
    {
      "cell_type": "code",
      "metadata": {
        "id": "n3i2U9Y3TAZM",
        "colab_type": "code",
        "colab": {
          "base_uri": "https://localhost:8080/",
          "height": 195
        },
        "outputId": "11b8f38c-0401-41ea-fd68-c14ce95cfacf"
      },
      "source": [
        "new_data =  theonion.append(huffpost) \n",
        "new_data = new_data.sample(frac=1).reset_index(drop=True)\n",
        "new_data.head()\n"
      ],
      "execution_count": 69,
      "outputs": [
        {
          "output_type": "execute_result",
          "data": {
            "text/html": [
              "<div>\n",
              "<style scoped>\n",
              "    .dataframe tbody tr th:only-of-type {\n",
              "        vertical-align: middle;\n",
              "    }\n",
              "\n",
              "    .dataframe tbody tr th {\n",
              "        vertical-align: top;\n",
              "    }\n",
              "\n",
              "    .dataframe thead th {\n",
              "        text-align: right;\n",
              "    }\n",
              "</style>\n",
              "<table border=\"1\" class=\"dataframe\">\n",
              "  <thead>\n",
              "    <tr style=\"text-align: right;\">\n",
              "      <th></th>\n",
              "      <th>is_sarcastic</th>\n",
              "      <th>headline</th>\n",
              "    </tr>\n",
              "  </thead>\n",
              "  <tbody>\n",
              "    <tr>\n",
              "      <th>0</th>\n",
              "      <td>0</td>\n",
              "      <td>Trump Tweet Mocking Obama’s ‘Unpresidential’ W...</td>\n",
              "    </tr>\n",
              "    <tr>\n",
              "      <th>1</th>\n",
              "      <td>0</td>\n",
              "      <td>Trump Administration Sues To Block Release Of ...</td>\n",
              "    </tr>\n",
              "    <tr>\n",
              "      <th>2</th>\n",
              "      <td>0</td>\n",
              "      <td>Coronavirus Live Updates: Read The Latest Abou...</td>\n",
              "    </tr>\n",
              "    <tr>\n",
              "      <th>3</th>\n",
              "      <td>0</td>\n",
              "      <td>As They Scream Voter Fraud, Trump And His Pres...</td>\n",
              "    </tr>\n",
              "    <tr>\n",
              "      <th>4</th>\n",
              "      <td>0</td>\n",
              "      <td>Oklahoma Governor Invites Donald Trump To Visi...</td>\n",
              "    </tr>\n",
              "  </tbody>\n",
              "</table>\n",
              "</div>"
            ],
            "text/plain": [
              "   is_sarcastic                                           headline\n",
              "0             0  Trump Tweet Mocking Obama’s ‘Unpresidential’ W...\n",
              "1             0  Trump Administration Sues To Block Release Of ...\n",
              "2             0  Coronavirus Live Updates: Read The Latest Abou...\n",
              "3             0  As They Scream Voter Fraud, Trump And His Pres...\n",
              "4             0  Oklahoma Governor Invites Donald Trump To Visi..."
            ]
          },
          "metadata": {
            "tags": []
          },
          "execution_count": 69
        }
      ]
    },
    {
      "cell_type": "code",
      "metadata": {
        "id": "UH35rkaeJ_Tp",
        "colab_type": "code",
        "colab": {}
      },
      "source": [
        ""
      ],
      "execution_count": null,
      "outputs": []
    },
    {
      "cell_type": "code",
      "metadata": {
        "id": "2xHhpuJdJ_Yu",
        "colab_type": "code",
        "colab": {}
      },
      "source": [
        ""
      ],
      "execution_count": null,
      "outputs": []
    },
    {
      "cell_type": "code",
      "metadata": {
        "id": "HDD6d-XMJ_RN",
        "colab_type": "code",
        "colab": {}
      },
      "source": [
        ""
      ],
      "execution_count": null,
      "outputs": []
    }
  ]
}