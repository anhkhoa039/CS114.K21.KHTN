{
  "nbformat": 4,
  "nbformat_minor": 0,
  "metadata": {
    "colab": {
      "name": "Compare_face_mask_correctly.ipynb",
      "provenance": [],
      "collapsed_sections": [],
      "toc_visible": true,
      "include_colab_link": true
    },
    "kernelspec": {
      "name": "python3",
      "display_name": "Python 3"
    },
    "language_info": {
      "name": "python"
    },
    "accelerator": "GPU"
  },
  "cells": [
    {
      "cell_type": "markdown",
      "metadata": {
        "id": "view-in-github",
        "colab_type": "text"
      },
      "source": [
        "<a href=\"https://colab.research.google.com/github/anhkhoa039/CS114.K21.KHTN/blob/master/Compare_face_mask_correctly.ipynb\" target=\"_parent\"><img src=\"https://colab.research.google.com/assets/colab-badge.svg\" alt=\"Open In Colab\"/></a>"
      ]
    },
    {
      "cell_type": "markdown",
      "metadata": {
        "id": "n3rV7G_GaKOU"
      },
      "source": [
        "# Import packages"
      ]
    },
    {
      "cell_type": "code",
      "metadata": {
        "colab": {
          "base_uri": "https://localhost:8080/"
        },
        "id": "zKb3c3-O_hYX",
        "outputId": "10c54298-066f-49d8-d3b8-3ac282bbd768"
      },
      "source": [
        "!gdown --id 1j5B4h8ZP1npA5TlAr8DIHsHk85cd0CPV"
      ],
      "execution_count": 34,
      "outputs": [
        {
          "output_type": "stream",
          "text": [
            "Downloading...\n",
            "From: https://drive.google.com/uc?id=1j5B4h8ZP1npA5TlAr8DIHsHk85cd0CPV\n",
            "To: /content/train.zip\n",
            "15.8MB [00:00, 139MB/s]\n"
          ],
          "name": "stdout"
        }
      ]
    },
    {
      "cell_type": "code",
      "metadata": {
        "colab": {
          "base_uri": "https://localhost:8080/"
        },
        "id": "CDZ7jR23_ntz",
        "outputId": "2445a9c2-e1fd-4eda-9273-8494402427f6"
      },
      "source": [
        "!gdown --id 1VP31QRhsGbYxgrbSECvizVvImjtJpYAV"
      ],
      "execution_count": 35,
      "outputs": [
        {
          "output_type": "stream",
          "text": [
            "Downloading...\n",
            "From: https://drive.google.com/uc?id=1VP31QRhsGbYxgrbSECvizVvImjtJpYAV\n",
            "To: /content/test.zip\n",
            "\r0.00B [00:00, ?B/s]\r3.27MB [00:00, 51.3MB/s]\n"
          ],
          "name": "stdout"
        }
      ]
    },
    {
      "cell_type": "code",
      "metadata": {
        "id": "heoq5pIwsgWT"
      },
      "source": [
        "# !rm -rf face_mask_dataset\n",
        "# !rm -rf test"
      ],
      "execution_count": 36,
      "outputs": []
    },
    {
      "cell_type": "code",
      "metadata": {
        "id": "rlypGE-0-Nzg",
        "colab": {
          "base_uri": "https://localhost:8080/"
        },
        "outputId": "1d8fabe4-a373-40b2-b8c9-cdc501e8c89d"
      },
      "source": [
        "!unzip test.zip"
      ],
      "execution_count": 37,
      "outputs": [
        {
          "output_type": "stream",
          "text": [
            "Archive:  test.zip\n",
            "   creating: test/\n",
            "   creating: test/correct/\n",
            "  inflating: test/correct/0650.jpg   \n",
            "  inflating: test/correct/0655.jpg   \n",
            "  inflating: test/correct/0661.jpg   \n",
            "  inflating: test/correct/0669.jpg   \n",
            "  inflating: test/correct/0671.jpg   \n",
            "  inflating: test/correct/0690.jpg   \n",
            "  inflating: test/correct/0693.jpg   \n",
            "  inflating: test/correct/0698.jpg   \n",
            "  inflating: test/correct/0714.jpg   \n",
            "  inflating: test/correct/0719.jpg   \n",
            "  inflating: test/correct/0725.jpg   \n",
            "  inflating: test/correct/0727.jpg   \n",
            "  inflating: test/correct/0733.jpg   \n",
            "  inflating: test/correct/0743.jpg   \n",
            "  inflating: test/correct/0746.jpg   \n",
            "  inflating: test/correct/0759.jpg   \n",
            "  inflating: test/correct/0760.jpg   \n",
            "  inflating: test/correct/0769.jpg   \n",
            "  inflating: test/correct/0770.jpg   \n",
            "  inflating: test/correct/0773.jpg   \n",
            "   creating: test/incorrect/\n",
            "  inflating: test/incorrect/aug_11.jpg  \n",
            "  inflating: test/incorrect/aug_13.jpg  \n",
            "  inflating: test/incorrect/aug_16.jpg  \n",
            "  inflating: test/incorrect/aug_19.jpg  \n",
            "  inflating: test/incorrect/aug_23.jpg  \n",
            "  inflating: test/incorrect/aug_30.jpg  \n",
            "  inflating: test/incorrect/aug_38.jpg  \n",
            "  inflating: test/incorrect/aug_39.jpg  \n",
            "  inflating: test/incorrect/aug_41.jpg  \n",
            "  inflating: test/incorrect/aug_45.jpg  \n",
            "  inflating: test/incorrect/aug_46.jpg  \n",
            "  inflating: test/incorrect/aug_58.jpg  \n",
            "  inflating: test/incorrect/aug_6.jpg  \n",
            "  inflating: test/incorrect/aug_63.jpg  \n",
            "  inflating: test/incorrect/aug_7.jpg  \n",
            "  inflating: test/incorrect/aug_72.jpg  \n",
            "  inflating: test/incorrect/aug_73.jpg  \n",
            "  inflating: test/incorrect/aug_80.jpg  \n",
            "  inflating: test/incorrect/aug_85.jpg  \n",
            "  inflating: test/incorrect/aug_87.jpg  \n"
          ],
          "name": "stdout"
        }
      ]
    },
    {
      "cell_type": "code",
      "metadata": {
        "id": "S_0PoEnV_4hL",
        "colab": {
          "base_uri": "https://localhost:8080/"
        },
        "outputId": "447e7a88-88b9-44ae-c69d-9d24ea90d3bd"
      },
      "source": [
        "!unzip train.zip"
      ],
      "execution_count": 38,
      "outputs": [
        {
          "output_type": "stream",
          "text": [
            "Archive:  train.zip\n",
            "   creating: face_mask_dataset/\n",
            "   creating: face_mask_dataset/correct/\n",
            "  inflating: face_mask_dataset/correct/0003.jpg  \n",
            "  inflating: face_mask_dataset/correct/0018.jpg  \n",
            "  inflating: face_mask_dataset/correct/0027.jpg  \n",
            "  inflating: face_mask_dataset/correct/0029.jpg  \n",
            "  inflating: face_mask_dataset/correct/0037.jpg  \n",
            "  inflating: face_mask_dataset/correct/0040.jpg  \n",
            "  inflating: face_mask_dataset/correct/0043.jpg  \n",
            "  inflating: face_mask_dataset/correct/0048.jpg  \n",
            "  inflating: face_mask_dataset/correct/0055.jpg  \n",
            "  inflating: face_mask_dataset/correct/0063.jpg  \n",
            "  inflating: face_mask_dataset/correct/0066.jpg  \n",
            "  inflating: face_mask_dataset/correct/0091.jpg  \n",
            "  inflating: face_mask_dataset/correct/0097.png  \n",
            "  inflating: face_mask_dataset/correct/0113.jpg  \n",
            "  inflating: face_mask_dataset/correct/0116.png  \n",
            "  inflating: face_mask_dataset/correct/0121.png  \n",
            "  inflating: face_mask_dataset/correct/0125.jpeg  \n",
            "  inflating: face_mask_dataset/correct/0127.jpg  \n",
            "  inflating: face_mask_dataset/correct/0128.png  \n",
            "  inflating: face_mask_dataset/correct/0129.png  \n",
            "  inflating: face_mask_dataset/correct/0150.jpg  \n",
            "  inflating: face_mask_dataset/correct/0158.jpg  \n",
            "  inflating: face_mask_dataset/correct/0160.jpg  \n",
            "  inflating: face_mask_dataset/correct/0161.jpg  \n",
            "  inflating: face_mask_dataset/correct/0166.jpg  \n",
            "  inflating: face_mask_dataset/correct/0170.jpg  \n",
            "  inflating: face_mask_dataset/correct/0171.jpg  \n",
            "  inflating: face_mask_dataset/correct/0190.jpg  \n",
            "  inflating: face_mask_dataset/correct/0197.png  \n",
            "  inflating: face_mask_dataset/correct/0198.jpg  \n",
            "  inflating: face_mask_dataset/correct/0200.jpg  \n",
            "  inflating: face_mask_dataset/correct/0201.jpg  \n",
            "  inflating: face_mask_dataset/correct/0205.jpg  \n",
            "  inflating: face_mask_dataset/correct/0211.jpg  \n",
            "  inflating: face_mask_dataset/correct/0212.jpg  \n",
            "  inflating: face_mask_dataset/correct/0220.jpg  \n",
            "  inflating: face_mask_dataset/correct/0241.jpg  \n",
            "  inflating: face_mask_dataset/correct/0247.jpg  \n",
            "  inflating: face_mask_dataset/correct/0249.jpg  \n",
            "  inflating: face_mask_dataset/correct/0250.png  \n",
            "  inflating: face_mask_dataset/correct/0257.jpg  \n",
            "  inflating: face_mask_dataset/correct/0267.jpg  \n",
            "  inflating: face_mask_dataset/correct/0269.jpg  \n",
            "  inflating: face_mask_dataset/correct/0273.jpg  \n",
            "  inflating: face_mask_dataset/correct/0277.jpg  \n",
            "  inflating: face_mask_dataset/correct/0286.jpg  \n",
            "  inflating: face_mask_dataset/correct/0311.jpeg  \n",
            "  inflating: face_mask_dataset/correct/0323.jpg  \n",
            "  inflating: face_mask_dataset/correct/0372.jpg  \n",
            "  inflating: face_mask_dataset/correct/0387.png  \n",
            "  inflating: face_mask_dataset/correct/0417.jpg  \n",
            "  inflating: face_mask_dataset/correct/0418.jpg  \n",
            "  inflating: face_mask_dataset/correct/0420.jpeg  \n",
            "  inflating: face_mask_dataset/correct/0421.jpg  \n",
            "  inflating: face_mask_dataset/correct/0427.jpg  \n",
            "  inflating: face_mask_dataset/correct/0451.jpg  \n",
            "  inflating: face_mask_dataset/correct/0466.jpg  \n",
            "  inflating: face_mask_dataset/correct/0469.jpg  \n",
            "  inflating: face_mask_dataset/correct/0470.jpg  \n",
            "  inflating: face_mask_dataset/correct/0481.jpg  \n",
            "  inflating: face_mask_dataset/correct/0486.jpg  \n",
            "  inflating: face_mask_dataset/correct/0488.jpg  \n",
            "  inflating: face_mask_dataset/correct/0493.jpg  \n",
            "  inflating: face_mask_dataset/correct/0498.jpg  \n",
            "  inflating: face_mask_dataset/correct/0499.jpg  \n",
            "  inflating: face_mask_dataset/correct/0502.png  \n",
            "  inflating: face_mask_dataset/correct/0505.jpg  \n",
            "  inflating: face_mask_dataset/correct/0506.jpg  \n",
            "  inflating: face_mask_dataset/correct/0536.jpg  \n",
            "  inflating: face_mask_dataset/correct/0544.jpg  \n",
            "  inflating: face_mask_dataset/correct/0547.jpg  \n",
            "  inflating: face_mask_dataset/correct/0558.jpg  \n",
            "  inflating: face_mask_dataset/correct/0561.jpg  \n",
            "  inflating: face_mask_dataset/correct/0566.jpg  \n",
            "  inflating: face_mask_dataset/correct/0577.jpg  \n",
            "  inflating: face_mask_dataset/correct/0583.jpg  \n",
            "  inflating: face_mask_dataset/correct/0592.jpg  \n",
            "  inflating: face_mask_dataset/correct/0614.jpg  \n",
            "  inflating: face_mask_dataset/correct/0626.jpg  \n",
            "  inflating: face_mask_dataset/correct/0638.jpg  \n",
            "   creating: face_mask_dataset/incorrect/\n",
            "  inflating: face_mask_dataset/incorrect/aug_101.jpg  \n",
            "  inflating: face_mask_dataset/incorrect/aug_108.jpg  \n",
            "  inflating: face_mask_dataset/incorrect/aug_111.jpg  \n",
            "  inflating: face_mask_dataset/incorrect/aug_123.jpg  \n",
            "  inflating: face_mask_dataset/incorrect/aug_124.jpg  \n",
            "  inflating: face_mask_dataset/incorrect/aug_136.jpg  \n",
            "  inflating: face_mask_dataset/incorrect/aug_139.jpg  \n",
            "  inflating: face_mask_dataset/incorrect/aug_148.jpg  \n",
            "  inflating: face_mask_dataset/incorrect/aug_151.jpg  \n",
            "  inflating: face_mask_dataset/incorrect/aug_152.jpg  \n",
            "  inflating: face_mask_dataset/incorrect/aug_172.jpg  \n",
            "  inflating: face_mask_dataset/incorrect/aug_186.jpg  \n",
            "  inflating: face_mask_dataset/incorrect/aug_193.jpg  \n",
            "  inflating: face_mask_dataset/incorrect/aug_202.jpg  \n",
            "  inflating: face_mask_dataset/incorrect/aug_203.jpg  \n",
            "  inflating: face_mask_dataset/incorrect/aug_209.jpg  \n",
            "  inflating: face_mask_dataset/incorrect/aug_210.jpg  \n",
            "  inflating: face_mask_dataset/incorrect/aug_217.jpg  \n",
            "  inflating: face_mask_dataset/incorrect/aug_219.jpg  \n",
            "  inflating: face_mask_dataset/incorrect/aug_221.jpg  \n",
            "  inflating: face_mask_dataset/incorrect/aug_227.jpg  \n",
            "  inflating: face_mask_dataset/incorrect/aug_229.jpg  \n",
            "  inflating: face_mask_dataset/incorrect/aug_240.jpg  \n",
            "  inflating: face_mask_dataset/incorrect/aug_254.jpg  \n",
            "  inflating: face_mask_dataset/incorrect/aug_260.jpg  \n",
            "  inflating: face_mask_dataset/incorrect/aug_279.jpg  \n",
            "  inflating: face_mask_dataset/incorrect/aug_311.jpg  \n",
            "  inflating: face_mask_dataset/incorrect/aug_354.jpg  \n",
            "  inflating: face_mask_dataset/incorrect/aug_378.jpg  \n",
            "  inflating: face_mask_dataset/incorrect/aug_380.jpg  \n",
            "  inflating: face_mask_dataset/incorrect/aug_381.jpg  \n",
            "  inflating: face_mask_dataset/incorrect/aug_384.jpg  \n",
            "  inflating: face_mask_dataset/incorrect/aug_395.jpg  \n",
            "  inflating: face_mask_dataset/incorrect/aug_399.jpg  \n",
            "  inflating: face_mask_dataset/incorrect/aug_408.jpg  \n",
            "  inflating: face_mask_dataset/incorrect/aug_415.jpg  \n",
            "  inflating: face_mask_dataset/incorrect/aug_426.jpg  \n",
            "  inflating: face_mask_dataset/incorrect/aug_428.jpg  \n",
            "  inflating: face_mask_dataset/incorrect/aug_444.jpg  \n",
            "  inflating: face_mask_dataset/incorrect/aug_484.jpg  \n",
            "  inflating: face_mask_dataset/incorrect/aug_520.jpg  \n",
            "  inflating: face_mask_dataset/incorrect/aug_656.jpg  \n",
            "  inflating: face_mask_dataset/incorrect/aug_657.jpg  \n",
            "  inflating: face_mask_dataset/incorrect/aug_658.jpg  \n",
            "  inflating: face_mask_dataset/incorrect/aug_689.jpg  \n",
            "  inflating: face_mask_dataset/incorrect/aug_88.jpg  \n",
            "  inflating: face_mask_dataset/incorrect/incorrect-mask-12.png  \n",
            "  inflating: face_mask_dataset/incorrect/incorrect-mask-14.png  \n",
            "  inflating: face_mask_dataset/incorrect/incorrect-mask-15.png  \n",
            "  inflating: face_mask_dataset/incorrect/incorrect-mask-16.png  \n",
            "  inflating: face_mask_dataset/incorrect/incorrect-mask-2.png  \n",
            "  inflating: face_mask_dataset/incorrect/incorrect-mask-25.jpg  \n",
            "  inflating: face_mask_dataset/incorrect/incorrect-mask-27.jpg  \n",
            "  inflating: face_mask_dataset/incorrect/incorrect-mask-3.png  \n",
            "  inflating: face_mask_dataset/incorrect/incorrect-mask-37.jpg  \n",
            "  inflating: face_mask_dataset/incorrect/incorrect-mask-4.png  \n",
            "  inflating: face_mask_dataset/incorrect/incorrect-mask-40.jpg  \n",
            "  inflating: face_mask_dataset/incorrect/incorrect-mask-45.jpg  \n",
            "  inflating: face_mask_dataset/incorrect/incorrect-mask-5.png  \n",
            "  inflating: face_mask_dataset/incorrect/incorrect-mask-51.jpg  \n",
            "  inflating: face_mask_dataset/incorrect/incorrect-mask-55.jpg  \n",
            "  inflating: face_mask_dataset/incorrect/incorrect-mask-58.jpg  \n",
            "  inflating: face_mask_dataset/incorrect/incorrect-mask-59.jpg  \n",
            "  inflating: face_mask_dataset/incorrect/incorrect-mask-60.jpg  \n",
            "  inflating: face_mask_dataset/incorrect/incorrect-mask-63.jpg  \n",
            "  inflating: face_mask_dataset/incorrect/incorrect-mask-66.jpg  \n",
            "  inflating: face_mask_dataset/incorrect/incorrect-mask-67.jpg  \n",
            "  inflating: face_mask_dataset/incorrect/incorrect-mask-69.jpg  \n",
            "  inflating: face_mask_dataset/incorrect/incorrect-mask-7.png  \n",
            "  inflating: face_mask_dataset/incorrect/incorrect-mask-78.jpg  \n",
            "  inflating: face_mask_dataset/incorrect/incorrect-mask-8.png  \n",
            "  inflating: face_mask_dataset/incorrect/incorrect-mask-82.jpg  \n",
            "  inflating: face_mask_dataset/incorrect/incorrect-mask-88.jpg  \n",
            "  inflating: face_mask_dataset/incorrect/incorrect-mask-89.jpg  \n",
            "  inflating: face_mask_dataset/incorrect/incorrect-mask-9.png  \n",
            "  inflating: face_mask_dataset/incorrect/incorrect-mask-91.jpg  \n",
            "  inflating: face_mask_dataset/incorrect/incorrect-mask-92.jpg  \n",
            "  inflating: face_mask_dataset/incorrect/incorrect-mask-94.jpg  \n",
            "  inflating: face_mask_dataset/incorrect/incorrect-mask-96.jpg  \n",
            "  inflating: face_mask_dataset/incorrect/incorrect-mask-99.jpg  \n"
          ],
          "name": "stdout"
        }
      ]
    },
    {
      "cell_type": "code",
      "metadata": {
        "id": "6AMPUHvi2kpN"
      },
      "source": [
        "import torch\n",
        "from torch.utils.data import TensorDataset, DataLoader\n",
        "import matplotlib.pyplot as plt\n",
        "import torchvision\n",
        "import numpy as np\n",
        "import random\n",
        "import torchvision.transforms as transforms\n",
        "import imageio\n",
        "\n",
        "import glob\n",
        "from PIL import Image\n",
        "import cv2\n",
        "import torch.nn as nn\n",
        "from sklearn import svm\n",
        "from torch.hub import load_state_dict_from_url\n",
        "from sklearn.pipeline import make_pipeline\n",
        "from sklearn.preprocessing import StandardScaler\n",
        "from sklearn.svm import SVC\n",
        "from sklearn.metrics import plot_confusion_matrix\n",
        "from sklearn.metrics import accuracy_score\n",
        "from sklearn.metrics import classification_report"
      ],
      "execution_count": 64,
      "outputs": []
    },
    {
      "cell_type": "markdown",
      "metadata": {
        "id": "O-mXg0gWadTL"
      },
      "source": [
        "## Visualize dataset\n"
      ]
    },
    {
      "cell_type": "markdown",
      "metadata": {
        "id": "uc3VKsrzaU4u"
      },
      "source": [
        "# Create dataloader"
      ]
    },
    {
      "cell_type": "code",
      "metadata": {
        "id": "8H3d7QiR37U4"
      },
      "source": [
        "class FM_Dataset(TensorDataset):\n",
        "    def __init__(self, root):\n",
        "        super(FM_Dataset, self).__init__()\n",
        "        self.root = root\n",
        "        self.labels = []\n",
        "        self.img_paths = []\n",
        "        self.transform =  transforms.Compose([\n",
        "          transforms.ToPILImage(),\n",
        "          transforms.ToTensor()])\n",
        "\n",
        "        folder_path = glob.glob(root+'/*')\n",
        "        for label_path in folder_path:\n",
        "          self.img_paths.extend(glob.glob(label_path+'/*'))\n",
        "        \n",
        "        # print(self.img_paths[0])\n",
        "    \n",
        "    def __getitem__(self, idx):\n",
        "        img_path = self.img_paths[idx]\n",
        "        img = cv2.imread(img_path)\n",
        "        img = np.resize(img, (224, 224, 3))\n",
        "        img = self.transform(img)\n",
        "\n",
        "        label = img_path.split('/')[-2]\n",
        "        if label == 'incorrect':\n",
        "          label = 0\n",
        "        else:\n",
        "          label = 1\n",
        "\n",
        "        return img, label\n",
        "\n",
        "\n",
        "    def __len__(self):\n",
        "        return len(self.img_paths) "
      ],
      "execution_count": 40,
      "outputs": []
    },
    {
      "cell_type": "markdown",
      "metadata": {
        "id": "VKntJl8uaYhd"
      },
      "source": [
        "# Initialize dataloader"
      ]
    },
    {
      "cell_type": "code",
      "metadata": {
        "id": "1gv6kscM_D1Q"
      },
      "source": [
        "train_dataset = FM_Dataset('face_mask_dataset')\n",
        "trainset_loader = DataLoader(train_dataset,\n",
        "                                 shuffle=False,\n",
        "                                 batch_size=4,\n",
        "                                 pin_memory=True,\n",
        "                                 drop_last=True\n",
        "                                 )\n",
        "\n",
        "# print(list(trainset_loader)[0][0][0])\n",
        "#Now using the AlexNet\n",
        "# AlexNet_model = torch.hub.load('pytorch/vision:v0.6.0', 'alexnet', pretrained=True)"
      ],
      "execution_count": 41,
      "outputs": []
    },
    {
      "cell_type": "markdown",
      "metadata": {
        "id": "GkZ6v55Paj1E"
      },
      "source": [
        "# Download AlexNet pretrained"
      ]
    },
    {
      "cell_type": "code",
      "metadata": {
        "colab": {
          "base_uri": "https://localhost:8080/"
        },
        "id": "a2r_4p5oeKYZ",
        "outputId": "88063a17-b299-4ce1-9572-5e255fddba79"
      },
      "source": [
        "import torchvision.models as models\n",
        "\n",
        "VGG19_model_1 = models.vgg19(pretrained=True)\n",
        "\n",
        "for param in VGG19_model_1.parameters():\n",
        "    param.requires_grad = False\n",
        "VGG19_model_1.cuda()\n",
        "\n",
        "VGG19_model_2 = models.vgg19(pretrained=True)\n",
        "\n",
        "for param in VGG19_model_2.parameters():\n",
        "    param.requires_grad = False\n",
        "VGG19_model_2.cuda()\n"
      ],
      "execution_count": 42,
      "outputs": [
        {
          "output_type": "execute_result",
          "data": {
            "text/plain": [
              "VGG(\n",
              "  (features): Sequential(\n",
              "    (0): Conv2d(3, 64, kernel_size=(3, 3), stride=(1, 1), padding=(1, 1))\n",
              "    (1): ReLU(inplace=True)\n",
              "    (2): Conv2d(64, 64, kernel_size=(3, 3), stride=(1, 1), padding=(1, 1))\n",
              "    (3): ReLU(inplace=True)\n",
              "    (4): MaxPool2d(kernel_size=2, stride=2, padding=0, dilation=1, ceil_mode=False)\n",
              "    (5): Conv2d(64, 128, kernel_size=(3, 3), stride=(1, 1), padding=(1, 1))\n",
              "    (6): ReLU(inplace=True)\n",
              "    (7): Conv2d(128, 128, kernel_size=(3, 3), stride=(1, 1), padding=(1, 1))\n",
              "    (8): ReLU(inplace=True)\n",
              "    (9): MaxPool2d(kernel_size=2, stride=2, padding=0, dilation=1, ceil_mode=False)\n",
              "    (10): Conv2d(128, 256, kernel_size=(3, 3), stride=(1, 1), padding=(1, 1))\n",
              "    (11): ReLU(inplace=True)\n",
              "    (12): Conv2d(256, 256, kernel_size=(3, 3), stride=(1, 1), padding=(1, 1))\n",
              "    (13): ReLU(inplace=True)\n",
              "    (14): Conv2d(256, 256, kernel_size=(3, 3), stride=(1, 1), padding=(1, 1))\n",
              "    (15): ReLU(inplace=True)\n",
              "    (16): Conv2d(256, 256, kernel_size=(3, 3), stride=(1, 1), padding=(1, 1))\n",
              "    (17): ReLU(inplace=True)\n",
              "    (18): MaxPool2d(kernel_size=2, stride=2, padding=0, dilation=1, ceil_mode=False)\n",
              "    (19): Conv2d(256, 512, kernel_size=(3, 3), stride=(1, 1), padding=(1, 1))\n",
              "    (20): ReLU(inplace=True)\n",
              "    (21): Conv2d(512, 512, kernel_size=(3, 3), stride=(1, 1), padding=(1, 1))\n",
              "    (22): ReLU(inplace=True)\n",
              "    (23): Conv2d(512, 512, kernel_size=(3, 3), stride=(1, 1), padding=(1, 1))\n",
              "    (24): ReLU(inplace=True)\n",
              "    (25): Conv2d(512, 512, kernel_size=(3, 3), stride=(1, 1), padding=(1, 1))\n",
              "    (26): ReLU(inplace=True)\n",
              "    (27): MaxPool2d(kernel_size=2, stride=2, padding=0, dilation=1, ceil_mode=False)\n",
              "    (28): Conv2d(512, 512, kernel_size=(3, 3), stride=(1, 1), padding=(1, 1))\n",
              "    (29): ReLU(inplace=True)\n",
              "    (30): Conv2d(512, 512, kernel_size=(3, 3), stride=(1, 1), padding=(1, 1))\n",
              "    (31): ReLU(inplace=True)\n",
              "    (32): Conv2d(512, 512, kernel_size=(3, 3), stride=(1, 1), padding=(1, 1))\n",
              "    (33): ReLU(inplace=True)\n",
              "    (34): Conv2d(512, 512, kernel_size=(3, 3), stride=(1, 1), padding=(1, 1))\n",
              "    (35): ReLU(inplace=True)\n",
              "    (36): MaxPool2d(kernel_size=2, stride=2, padding=0, dilation=1, ceil_mode=False)\n",
              "  )\n",
              "  (avgpool): AdaptiveAvgPool2d(output_size=(7, 7))\n",
              "  (classifier): Sequential(\n",
              "    (0): Linear(in_features=25088, out_features=4096, bias=True)\n",
              "    (1): ReLU(inplace=True)\n",
              "    (2): Dropout(p=0.5, inplace=False)\n",
              "    (3): Linear(in_features=4096, out_features=4096, bias=True)\n",
              "    (4): ReLU(inplace=True)\n",
              "    (5): Dropout(p=0.5, inplace=False)\n",
              "    (6): Linear(in_features=4096, out_features=1000, bias=True)\n",
              "  )\n",
              ")"
            ]
          },
          "metadata": {
            "tags": []
          },
          "execution_count": 42
        }
      ]
    },
    {
      "cell_type": "code",
      "metadata": {
        "id": "JG5SJkZx5_sq"
      },
      "source": [
        "# import torchvision.models as models\n",
        "\n",
        "# AlexNet_model = models.alexnet(pretrained=True)\n",
        "\n",
        "# for param in AlexNet_model.parameters():\n",
        "#     param.requires_grad = False\n",
        "# AlexNet_model.cuda()"
      ],
      "execution_count": 43,
      "outputs": []
    },
    {
      "cell_type": "code",
      "metadata": {
        "id": "2fgLbyNAP-Va"
      },
      "source": [
        "# __all__ = ['AlexNet', 'alexnet']\n",
        "\n",
        "\n",
        "# model_urls = {\n",
        "#     'alexnet': 'https://download.pytorch.org/models/alexnet-owt-4df8aa71.pth',\n",
        "# }\n",
        "\n",
        "\n",
        "# class AlexNet(nn.Module):\n",
        "\n",
        "#     def __init__(self, num_classes=1000):\n",
        "#         super(AlexNet, self).__init__()\n",
        "#         self.features = nn.Sequential(\n",
        "#             nn.Conv2d(3, 64, kernel_size=11, stride=4, padding=2),\n",
        "#             nn.ReLU(inplace=True),\n",
        "#             nn.MaxPool2d(kernel_size=3, stride=2),\n",
        "#             nn.Conv2d(64, 192, kernel_size=5, padding=2),\n",
        "#             nn.ReLU(inplace=True),\n",
        "#             nn.MaxPool2d(kernel_size=3, stride=2),\n",
        "#             nn.Conv2d(192, 384, kernel_size=3, padding=1),\n",
        "#             nn.ReLU(inplace=True),\n",
        "#             nn.Conv2d(384, 256, kernel_size=3, padding=1),\n",
        "#             nn.ReLU(inplace=True),\n",
        "#             nn.Conv2d(256, 256, kernel_size=3, padding=1),\n",
        "#             nn.ReLU(inplace=True),\n",
        "#             nn.MaxPool2d(kernel_size=3, stride=2),\n",
        "#         )\n",
        "#         self.avgpool = nn.AdaptiveAvgPool2d((6, 6))\n",
        "#         self.classifier = nn.Sequential(\n",
        "#             nn.Dropout(),\n",
        "#             nn.Linear(256 * 6 * 6, 4096),\n",
        "#             nn.ReLU(inplace=True),\n",
        "#             nn.Dropout(),\n",
        "#             nn.Linear(4096, 4096),\n",
        "#             nn.ReLU(inplace=True),\n",
        "#             nn.Linear(4096, num_classes),\n",
        "#         )\n",
        "\n",
        "#     def forward(self, x):\n",
        "#         x = self.features(x)\n",
        "#         x = self.avgpool(x)\n",
        "#         x = x.view(x.size(0), 256 * 6 * 6)\n",
        "#         x = self.classifier(x)\n",
        "#         return x\n",
        "\n",
        "\n",
        "# def alexnet(pretrained=False, progress=True, **kwargs):\n",
        "#     r\"\"\"AlexNet model architecture from the\n",
        "#     `\"One weird trick...\" <https://arxiv.org/abs/1404.5997>`_ paper.\n",
        "#     Args:\n",
        "#         pretrained (bool): If True, returns a model pre-trained on ImageNet\n",
        "#         progress (bool): If True, displays a progress bar of the download to stderr\n",
        "#     \"\"\"\n",
        "#     model = AlexNet(**kwargs)\n",
        "#     if pretrained:\n",
        "#         state_dict = load_state_dict_from_url(model_urls['alexnet'],\n",
        "#                                               progress=progress)\n",
        "#         model.load_state_dict(state_dict)\n",
        "#     return model\n",
        "\n",
        "\n",
        "# # AlexNet_model_1 = AlexNet()\n",
        "# # AlexNet_model_2 = AlexNet()\n",
        "# AlexNet_model = AlexNet()\n",
        "# state_dict = load_state_dict_from_url(model_urls['alexnet'],)\n",
        "# # AlexNet_model_1.load_state_dict(state_dict)\n",
        "# # AlexNet_model_2.load_state_dict(state_dict)\n",
        "\n",
        "# # AlexNet_model_1.cuda()\n",
        "# # AlexNet_model_2.cuda()\n",
        "\n",
        "# #Model description\n",
        "# # AlexNet_model.eval()"
      ],
      "execution_count": 44,
      "outputs": []
    },
    {
      "cell_type": "markdown",
      "metadata": {
        "id": "3XGupJe3bTJm"
      },
      "source": [
        "# Create 2 models \n",
        "- Model 1: Remove last FC\n",
        "- Model 2: Remove 2 last FC"
      ]
    },
    {
      "cell_type": "code",
      "metadata": {
        "id": "81DpAyZzmBUk"
      },
      "source": [
        "# new_classifier = nn.Sequential(*list(AlexNet_model.classifier.children())[:-2])\n",
        "# AlexNet_model.classifier = new_classifier"
      ],
      "execution_count": 45,
      "outputs": []
    },
    {
      "cell_type": "code",
      "metadata": {
        "id": "a6vJL6IZieep"
      },
      "source": [
        "new_classifier_1 = nn.Sequential(*list(VGG19_model_1.classifier.children())[:-1])\n",
        "VGG19_model_1.classifier = new_classifier_1\n",
        "\n",
        "new_classifier_2 = nn.Sequential(*list(VGG19_model_2.classifier.children())[:-2])\n",
        "VGG19_model_2.classifier = new_classifier_2"
      ],
      "execution_count": 46,
      "outputs": []
    },
    {
      "cell_type": "code",
      "metadata": {
        "id": "MlA84EFvRCmG"
      },
      "source": [
        "# new_classifier_1 = nn.Sequential(*list(AlexNet_model_1.classifier.children())[:-1])\n",
        "# new_classifier_2 = nn.Sequential(*list(AlexNet_model_2.classifier.children())[:-2])\n",
        "# AlexNet_model_1.classifier = new_classifier_1\n",
        "# AlexNet_model_2.classifier = new_classifier_2"
      ],
      "execution_count": 47,
      "outputs": []
    },
    {
      "cell_type": "markdown",
      "metadata": {
        "id": "sW-sUxJ3bt0L"
      },
      "source": [
        "# Features extraction from 2 these models"
      ]
    },
    {
      "cell_type": "code",
      "metadata": {
        "id": "XD1IH03ZmF0j"
      },
      "source": [
        "# features = []\n",
        "# labels = []\n",
        "\n",
        "# # loop over the dataset multiple times\n",
        "# for i, data in enumerate(trainset_loader):\n",
        "#   img, label = data[0].cuda(), data[1].cuda()\n",
        "#   with torch.no_grad():\n",
        "#     output = AlexNet_model(img)\n",
        "#     output = output.cpu()\n",
        "\n",
        "#     # if i == 0:\n",
        "#     #   print(img[0][0])\n",
        "#     #   print(output[0][0])\n",
        "#     features.extend(np.squeeze(output.data.numpy()))\n",
        "\n",
        "#     labels.extend(label.cpu().numpy())\n",
        "\n",
        "# print('Finished extracting features of AlexNet')"
      ],
      "execution_count": 48,
      "outputs": []
    },
    {
      "cell_type": "code",
      "metadata": {
        "id": "KhH9hdMwiy_0"
      },
      "source": [
        "# features = []\n",
        "# labels = []\n",
        "\n",
        "# # loop over the dataset multiple times\n",
        "# for i, data in enumerate(trainset_loader):\n",
        "#   img, label = data[0].cuda(), data[1].cuda()\n",
        "#   with torch.no_grad():\n",
        "#     output = VGG19_model(img)\n",
        "#     output = output.cpu()\n",
        "\n",
        "#     # if i == 0:\n",
        "#     #   print(img[0][0])\n",
        "#     #   print(output[0][0])\n",
        "#     features.extend(np.squeeze(output.data.numpy()))\n",
        "\n",
        "#     labels.extend(label.cpu().numpy())\n",
        "\n",
        "# print('Finished extracting features of VGG19')"
      ],
      "execution_count": 49,
      "outputs": []
    },
    {
      "cell_type": "code",
      "metadata": {
        "id": "-BK6zokvHkPm"
      },
      "source": [
        "# print(features[0])"
      ],
      "execution_count": 50,
      "outputs": []
    },
    {
      "cell_type": "code",
      "metadata": {
        "colab": {
          "base_uri": "https://localhost:8080/"
        },
        "id": "ORgOoLaRC3jE",
        "outputId": "ce659577-6da5-4a9e-d980-0c9ab4a7edbd"
      },
      "source": [
        "features_1 = []\n",
        "features_2 = []\n",
        "labels = []\n",
        "\n",
        "for epoch in range(1):  # loop over the dataset multiple times\n",
        "    for _, data in enumerate(trainset_loader):\n",
        "        img, label = data[0].cuda(), data[1].cuda()\n",
        "\n",
        "        output_1 = VGG19_model_1(img)\n",
        "        output_1 = output_1.cpu()\n",
        "        features_1.extend(np.squeeze(output_1.data.numpy()))\n",
        "\n",
        "        output_2 = VGG19_model_2(img)\n",
        "        output_2 = output_2.cpu()\n",
        "        features_2.extend(np.squeeze(output_2.data.numpy()))\n",
        "        \n",
        "        labels.extend(label.cpu().numpy())\n",
        "\n",
        "print('Finished extracting features of VGG19')"
      ],
      "execution_count": 51,
      "outputs": [
        {
          "output_type": "stream",
          "text": [
            "Finished extracting features of VGG19\n"
          ],
          "name": "stdout"
        }
      ]
    },
    {
      "cell_type": "code",
      "metadata": {
        "id": "sfyMVCuMQJz4"
      },
      "source": [
        "# #Updating the second classifier\n",
        "# AlexNet_model.classifier[4] = nn.Linear(4096,4096)\n",
        "\n",
        "# #Updating the third and the last classifier that is the output layer of the network. Make sure to have 10 output nodes if we are going to get 10 class labels through our model.\n",
        "# AlexNet_model.classifier[6] = nn.Linear(1024,10)"
      ],
      "execution_count": 52,
      "outputs": []
    },
    {
      "cell_type": "code",
      "metadata": {
        "colab": {
          "base_uri": "https://localhost:8080/"
        },
        "id": "PqtJ8CeNTang",
        "outputId": "281b2576-3f56-451b-ad10-73302ba26cca"
      },
      "source": [
        "print(np.shape(features_1))\n",
        "print(np.shape(features_2))\n",
        "print(np.shape(labels))"
      ],
      "execution_count": 53,
      "outputs": [
        {
          "output_type": "stream",
          "text": [
            "(160, 4096)\n",
            "(160, 4096)\n",
            "(160,)\n"
          ],
          "name": "stdout"
        }
      ]
    },
    {
      "cell_type": "markdown",
      "metadata": {
        "id": "QvtTkIWxb5LM"
      },
      "source": [
        "## Create SVM model and train with 2 feature-map (80% training - 20% testing)"
      ]
    },
    {
      "cell_type": "code",
      "metadata": {
        "id": "zaFqElTVmSJh"
      },
      "source": [
        "# clf = make_pipeline(StandardScaler(), SVC(gamma='auto'))\n",
        "# clf.fit(features, labels)"
      ],
      "execution_count": 54,
      "outputs": []
    },
    {
      "cell_type": "code",
      "metadata": {
        "id": "Dgd9qL16VTQ0",
        "colab": {
          "base_uri": "https://localhost:8080/"
        },
        "outputId": "2adaaa69-e6da-4a0f-ebde-d9ac3e111a4b"
      },
      "source": [
        "clf_1 = make_pipeline(StandardScaler(), SVC(gamma='auto'))\n",
        "clf_1.fit(features_1, labels)\n",
        "\n",
        "clf_2 = make_pipeline(StandardScaler(), SVC(gamma='auto'))\n",
        "clf_2.fit(features_2, labels)"
      ],
      "execution_count": 55,
      "outputs": [
        {
          "output_type": "execute_result",
          "data": {
            "text/plain": [
              "Pipeline(memory=None,\n",
              "         steps=[('standardscaler',\n",
              "                 StandardScaler(copy=True, with_mean=True, with_std=True)),\n",
              "                ('svc',\n",
              "                 SVC(C=1.0, break_ties=False, cache_size=200, class_weight=None,\n",
              "                     coef0=0.0, decision_function_shape='ovr', degree=3,\n",
              "                     gamma='auto', kernel='rbf', max_iter=-1, probability=False,\n",
              "                     random_state=None, shrinking=True, tol=0.001,\n",
              "                     verbose=False))],\n",
              "         verbose=False)"
            ]
          },
          "metadata": {
            "tags": []
          },
          "execution_count": 55
        }
      ]
    },
    {
      "cell_type": "markdown",
      "metadata": {
        "id": "VVRNFrQFcKg9"
      },
      "source": [
        "# Compare accuracy between 2 models"
      ]
    },
    {
      "cell_type": "code",
      "metadata": {
        "id": "SnxWadA0EzSq"
      },
      "source": [
        "test_dataset = FM_Dataset('test')"
      ],
      "execution_count": 56,
      "outputs": []
    },
    {
      "cell_type": "code",
      "metadata": {
        "id": "qgZhEuUmuyJG"
      },
      "source": [
        "testset_loader = DataLoader(test_dataset,\n",
        "                                 shuffle=False,\n",
        "                                 batch_size=1,\n",
        "                                 pin_memory=True,\n",
        "                                 drop_last=True\n",
        "                                 )"
      ],
      "execution_count": 57,
      "outputs": []
    },
    {
      "cell_type": "code",
      "metadata": {
        "colab": {
          "base_uri": "https://localhost:8080/"
        },
        "id": "fmZ5qy-YvE7F",
        "outputId": "04c06235-80f4-4a94-ec4e-e0d74a27fded"
      },
      "source": [
        "features_test_1 = []\n",
        "features_test_2 = []\n",
        "labels_test = []\n",
        " # loop over the dataset multiple times\n",
        "for _, il in enumerate(testset_loader):\n",
        "    image, label = il[0].cuda(), il[1].cuda()\n",
        "\n",
        "    output_1 = VGG19_model_1(image)\n",
        "    output_1 = output_1.cpu()\n",
        "    features_test_1.append(np.squeeze(output_1.data.numpy()))\n",
        "\n",
        "    output_2 = VGG19_model_2(image)\n",
        "    output_2 = output_2.cpu()\n",
        "    features_test_2.append(np.squeeze(output_2.data.numpy()))\n",
        "\n",
        "    labels_test.append(label.cpu().numpy())\n",
        "\n",
        "print('Finished extracting features of AlexNet')"
      ],
      "execution_count": 58,
      "outputs": [
        {
          "output_type": "stream",
          "text": [
            "Finished extracting features of AlexNet\n"
          ],
          "name": "stdout"
        }
      ]
    },
    {
      "cell_type": "code",
      "metadata": {
        "colab": {
          "base_uri": "https://localhost:8080/"
        },
        "id": "tyDDigLrvv60",
        "outputId": "2d846c82-f991-4739-e23b-f6fff51ea674"
      },
      "source": [
        "print((features_test_1[0]))\n",
        "\n",
        "print((features_test_2[0]))"
      ],
      "execution_count": 59,
      "outputs": [
        {
          "output_type": "stream",
          "text": [
            "[0. 0. 0. ... 0. 0. 0.]\n",
            "[0. 0. 0. ... 0. 0. 0.]\n"
          ],
          "name": "stdout"
        }
      ]
    },
    {
      "cell_type": "code",
      "metadata": {
        "colab": {
          "base_uri": "https://localhost:8080/"
        },
        "id": "X7xj0AH5mWNr",
        "outputId": "f2ef192d-b899-4335-9ef4-af5090fa90b1"
      },
      "source": [
        "y_pre_1 = clf_1.predict(features_test_1)\n",
        "print(\"Accurancy 1:\",accuracy_score(y_pre_1, labels_test))\n",
        "\n",
        "y_pre_2 = clf_2.predict(features_test_2)\n",
        "\n",
        "print(\"Accurancy 2:\",accuracy_score(y_pre_2, labels_test))"
      ],
      "execution_count": 60,
      "outputs": [
        {
          "output_type": "stream",
          "text": [
            "Accurancy 1: 0.9\n",
            "Accurancy 2: 1.0\n"
          ],
          "name": "stdout"
        }
      ]
    },
    {
      "cell_type": "code",
      "metadata": {
        "colab": {
          "base_uri": "https://localhost:8080/"
        },
        "id": "t8NM6LGrs6sQ",
        "outputId": "54aed9da-89f8-41b5-a0fb-366c4881c26f"
      },
      "source": [
        "print ('Remove last layer')\n",
        "print (classification_report(labels_test,y_pre_1, target_names=['incorrect','correct']))\n",
        "print ('Remove 2 last layers')\n",
        "print (classification_report(labels_test,y_pre_2, target_names=['incorrect','correct']))\n"
      ],
      "execution_count": 66,
      "outputs": [
        {
          "output_type": "stream",
          "text": [
            "Remove last layer\n",
            "              precision    recall  f1-score   support\n",
            "\n",
            "   incorrect       0.83      1.00      0.91        20\n",
            "     correct       1.00      0.80      0.89        20\n",
            "\n",
            "    accuracy                           0.90        40\n",
            "   macro avg       0.92      0.90      0.90        40\n",
            "weighted avg       0.92      0.90      0.90        40\n",
            "\n",
            "Remove 2 last layers\n",
            "              precision    recall  f1-score   support\n",
            "\n",
            "   incorrect       1.00      1.00      1.00        20\n",
            "     correct       1.00      1.00      1.00        20\n",
            "\n",
            "    accuracy                           1.00        40\n",
            "   macro avg       1.00      1.00      1.00        40\n",
            "weighted avg       1.00      1.00      1.00        40\n",
            "\n"
          ],
          "name": "stdout"
        }
      ]
    },
    {
      "cell_type": "markdown",
      "metadata": {
        "id": "l4uSpATNcb6R"
      },
      "source": [
        "# Confusion matrix of model over 40 samples (20% testing) "
      ]
    },
    {
      "cell_type": "code",
      "metadata": {
        "colab": {
          "base_uri": "https://localhost:8080/",
          "height": 582
        },
        "id": "1SUp_v_pXy42",
        "outputId": "b2ce68d6-6a01-4420-b5d4-f66d5c6c0f0d"
      },
      "source": [
        "print (\"Remove last layer\")\n",
        "plot_confusion_matrix(clf_1, features_test_1, labels_test)\n",
        "plot_confusion_matrix(clf_2, features_test_2, labels_test)\n",
        "plt.show() \n",
        "print (\"Remove last 2 layer\")"
      ],
      "execution_count": 61,
      "outputs": [
        {
          "output_type": "stream",
          "text": [
            "Remove last layer\n"
          ],
          "name": "stdout"
        },
        {
          "output_type": "display_data",
          "data": {
            "image/png": "[encoded data removed]",
            "text/plain": [
              "<Figure size 432x288 with 2 Axes>"
            ]
          },
          "metadata": {
            "tags": [],
            "needs_background": "light"
          }
        },
        {
          "output_type": "display_data",
          "data": {
            "image/png": "[encoded data removed]",
            "text/plain": [
              "<Figure size 432x288 with 2 Axes>"
            ]
          },
          "metadata": {
            "tags": [],
            "needs_background": "light"
          }
        },
        {
          "output_type": "stream",
          "text": [
            "Remove last 2 layer\n"
          ],
          "name": "stdout"
        }
      ]
    },
    {
      "cell_type": "code",
      "metadata": {
        "id": "FFISKV_eeRnw",
        "colab": {
          "base_uri": "https://localhost:8080/"
        },
        "outputId": "5d56f130-ceba-4600-b213-12b6960fd28a"
      },
      "source": [
        "y_pre_1 = clf_1.predict(features_test_1)\n",
        "y_pre_2 = clf_2.predict(features_test_2)\n",
        "\n",
        "print(accuracy_score(y_pre_1, labels_test))\n",
        "print(accuracy_score(y_pre_2, labels_test))"
      ],
      "execution_count": 62,
      "outputs": [
        {
          "output_type": "stream",
          "text": [
            "0.9\n",
            "1.0\n"
          ],
          "name": "stdout"
        }
      ]
    },
    {
      "cell_type": "code",
      "metadata": {
        "colab": {
          "base_uri": "https://localhost:8080/",
          "height": 370
        },
        "id": "LW0C1UAyWPuS",
        "outputId": "f2da10fa-6560-4468-f949-a15b0177064b"
      },
      "source": [
        "from PIL import Image\n",
        "from torch.autograd import Variable\n",
        "\n",
        "# img_path = '../../pra2.jpg'\n",
        "img_path = '../../201-with-mask.jpg'\n",
        "\n",
        "img_pre = cv2.imread(img_path)\n",
        "img = np.resize(img_pre, (227, 227, 3))\n",
        "\n",
        "preprocess = transforms.Compose([\n",
        "       transforms.ToPILImage(),\n",
        "       transforms.ToTensor()\n",
        "    ])\n",
        "img_tensor = preprocess(img)\n",
        "img_tensor.unsqueeze_(0)\n",
        "img_var = Variable(img_tensor)\n",
        "img_var = img_var.cuda()\n",
        "out = AlexNet_model(img_var)\n",
        "\n",
        "newOut = np.squeeze(out)\n",
        "newOut = newOut.cpu()\n",
        "\n",
        "newOut = torch.unsqueeze(newOut, 0)\n",
        "pred = clf.predict(newOut.data.numpy())\n",
        "print(pred)"
      ],
      "execution_count": 63,
      "outputs": [
        {
          "output_type": "error",
          "ename": "TypeError",
          "evalue": "ignored",
          "traceback": [
            "\u001b[0;31m---------------------------------------------------------------------------\u001b[0m",
            "\u001b[0;31mTypeError\u001b[0m                                 Traceback (most recent call last)",
            "\u001b[0;32m<ipython-input-63-57846cdd3012>\u001b[0m in \u001b[0;36m<module>\u001b[0;34m()\u001b[0m\n\u001b[1;32m     12\u001b[0m        \u001b[0mtransforms\u001b[0m\u001b[0;34m.\u001b[0m\u001b[0mToTensor\u001b[0m\u001b[0;34m(\u001b[0m\u001b[0;34m)\u001b[0m\u001b[0;34m\u001b[0m\u001b[0;34m\u001b[0m\u001b[0m\n\u001b[1;32m     13\u001b[0m     ])\n\u001b[0;32m---> 14\u001b[0;31m \u001b[0mimg_tensor\u001b[0m \u001b[0;34m=\u001b[0m \u001b[0mpreprocess\u001b[0m\u001b[0;34m(\u001b[0m\u001b[0mimg\u001b[0m\u001b[0;34m)\u001b[0m\u001b[0;34m\u001b[0m\u001b[0;34m\u001b[0m\u001b[0m\n\u001b[0m\u001b[1;32m     15\u001b[0m \u001b[0mimg_tensor\u001b[0m\u001b[0;34m.\u001b[0m\u001b[0munsqueeze_\u001b[0m\u001b[0;34m(\u001b[0m\u001b[0;36m0\u001b[0m\u001b[0;34m)\u001b[0m\u001b[0;34m\u001b[0m\u001b[0;34m\u001b[0m\u001b[0m\n\u001b[1;32m     16\u001b[0m \u001b[0mimg_var\u001b[0m \u001b[0;34m=\u001b[0m \u001b[0mVariable\u001b[0m\u001b[0;34m(\u001b[0m\u001b[0mimg_tensor\u001b[0m\u001b[0;34m)\u001b[0m\u001b[0;34m\u001b[0m\u001b[0;34m\u001b[0m\u001b[0m\n",
            "\u001b[0;32m/usr/local/lib/python3.7/dist-packages/torchvision/transforms/transforms.py\u001b[0m in \u001b[0;36m__call__\u001b[0;34m(self, img)\u001b[0m\n\u001b[1;32m     58\u001b[0m     \u001b[0;32mdef\u001b[0m \u001b[0m__call__\u001b[0m\u001b[0;34m(\u001b[0m\u001b[0mself\u001b[0m\u001b[0;34m,\u001b[0m \u001b[0mimg\u001b[0m\u001b[0;34m)\u001b[0m\u001b[0;34m:\u001b[0m\u001b[0;34m\u001b[0m\u001b[0;34m\u001b[0m\u001b[0m\n\u001b[1;32m     59\u001b[0m         \u001b[0;32mfor\u001b[0m \u001b[0mt\u001b[0m \u001b[0;32min\u001b[0m \u001b[0mself\u001b[0m\u001b[0;34m.\u001b[0m\u001b[0mtransforms\u001b[0m\u001b[0;34m:\u001b[0m\u001b[0;34m\u001b[0m\u001b[0;34m\u001b[0m\u001b[0m\n\u001b[0;32m---> 60\u001b[0;31m             \u001b[0mimg\u001b[0m \u001b[0;34m=\u001b[0m \u001b[0mt\u001b[0m\u001b[0;34m(\u001b[0m\u001b[0mimg\u001b[0m\u001b[0;34m)\u001b[0m\u001b[0;34m\u001b[0m\u001b[0;34m\u001b[0m\u001b[0m\n\u001b[0m\u001b[1;32m     61\u001b[0m         \u001b[0;32mreturn\u001b[0m \u001b[0mimg\u001b[0m\u001b[0;34m\u001b[0m\u001b[0;34m\u001b[0m\u001b[0m\n\u001b[1;32m     62\u001b[0m \u001b[0;34m\u001b[0m\u001b[0m\n",
            "\u001b[0;32m/usr/local/lib/python3.7/dist-packages/torchvision/transforms/transforms.py\u001b[0m in \u001b[0;36m__call__\u001b[0;34m(self, pic)\u001b[0m\n\u001b[1;32m    177\u001b[0m \u001b[0;34m\u001b[0m\u001b[0m\n\u001b[1;32m    178\u001b[0m         \"\"\"\n\u001b[0;32m--> 179\u001b[0;31m         \u001b[0;32mreturn\u001b[0m \u001b[0mF\u001b[0m\u001b[0;34m.\u001b[0m\u001b[0mto_pil_image\u001b[0m\u001b[0;34m(\u001b[0m\u001b[0mpic\u001b[0m\u001b[0;34m,\u001b[0m \u001b[0mself\u001b[0m\u001b[0;34m.\u001b[0m\u001b[0mmode\u001b[0m\u001b[0;34m)\u001b[0m\u001b[0;34m\u001b[0m\u001b[0;34m\u001b[0m\u001b[0m\n\u001b[0m\u001b[1;32m    180\u001b[0m \u001b[0;34m\u001b[0m\u001b[0m\n\u001b[1;32m    181\u001b[0m     \u001b[0;32mdef\u001b[0m \u001b[0m__repr__\u001b[0m\u001b[0;34m(\u001b[0m\u001b[0mself\u001b[0m\u001b[0;34m)\u001b[0m\u001b[0;34m:\u001b[0m\u001b[0;34m\u001b[0m\u001b[0;34m\u001b[0m\u001b[0m\n",
            "\u001b[0;32m/usr/local/lib/python3.7/dist-packages/torchvision/transforms/functional.py\u001b[0m in \u001b[0;36mto_pil_image\u001b[0;34m(pic, mode)\u001b[0m\n\u001b[1;32m    292\u001b[0m \u001b[0;34m\u001b[0m\u001b[0m\n\u001b[1;32m    293\u001b[0m     \u001b[0;32mif\u001b[0m \u001b[0mmode\u001b[0m \u001b[0;32mis\u001b[0m \u001b[0;32mNone\u001b[0m\u001b[0;34m:\u001b[0m\u001b[0;34m\u001b[0m\u001b[0;34m\u001b[0m\u001b[0m\n\u001b[0;32m--> 294\u001b[0;31m         \u001b[0;32mraise\u001b[0m \u001b[0mTypeError\u001b[0m\u001b[0;34m(\u001b[0m\u001b[0;34m'Input type {} is not supported'\u001b[0m\u001b[0;34m.\u001b[0m\u001b[0mformat\u001b[0m\u001b[0;34m(\u001b[0m\u001b[0mnpimg\u001b[0m\u001b[0;34m.\u001b[0m\u001b[0mdtype\u001b[0m\u001b[0;34m)\u001b[0m\u001b[0;34m)\u001b[0m\u001b[0;34m\u001b[0m\u001b[0;34m\u001b[0m\u001b[0m\n\u001b[0m\u001b[1;32m    295\u001b[0m \u001b[0;34m\u001b[0m\u001b[0m\n\u001b[1;32m    296\u001b[0m     \u001b[0;32mreturn\u001b[0m \u001b[0mImage\u001b[0m\u001b[0;34m.\u001b[0m\u001b[0mfromarray\u001b[0m\u001b[0;34m(\u001b[0m\u001b[0mnpimg\u001b[0m\u001b[0;34m,\u001b[0m \u001b[0mmode\u001b[0m\u001b[0;34m=\u001b[0m\u001b[0mmode\u001b[0m\u001b[0;34m)\u001b[0m\u001b[0;34m\u001b[0m\u001b[0;34m\u001b[0m\u001b[0m\n",
            "\u001b[0;31mTypeError\u001b[0m: Input type object is not supported"
          ]
        }
      ]
    }
  ]
}